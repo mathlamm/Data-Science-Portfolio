{
  "cells": [
    {
      "cell_type": "code",
      "execution_count": 1,
      "metadata": {
        "id": "wL77EPUT7tc6"
      },
      "outputs": [],
      "source": [
        "import pandas as pd\n",
        "from mining_functions import city_scrape, push_cities"
      ]
    },
    {
      "cell_type": "markdown",
      "metadata": {},
      "source": [
        "## Define City Names\n",
        "\n",
        "Insert those city names where Gans operates"
      ]
    },
    {
      "cell_type": "code",
      "execution_count": 15,
      "metadata": {},
      "outputs": [],
      "source": [
        "city_names = [\"Berlin\", \"Hamburg\", \"Munich\", \"Paris\", \"Leipzig\", \"Halle (Saale)\", \"Dresden\", \"Chemnitz\", \"Cologne\", \"Bremen\"] # , \"Dresden\", \"Chemnitz\", \"Bremen\", \"Cologne\""
      ]
    },
    {
      "cell_type": "code",
      "execution_count": 16,
      "metadata": {},
      "outputs": [
        {
          "data": {
            "text/html": [
              "<div>\n",
              "<style scoped>\n",
              "    .dataframe tbody tr th:only-of-type {\n",
              "        vertical-align: middle;\n",
              "    }\n",
              "\n",
              "    .dataframe tbody tr th {\n",
              "        vertical-align: top;\n",
              "    }\n",
              "\n",
              "    .dataframe thead th {\n",
              "        text-align: right;\n",
              "    }\n",
              "</style>\n",
              "<table border=\"1\" class=\"dataframe\">\n",
              "  <thead>\n",
              "    <tr style=\"text-align: right;\">\n",
              "      <th></th>\n",
              "      <th>city_name</th>\n",
              "      <th>country</th>\n",
              "      <th>longitude</th>\n",
              "      <th>latitude</th>\n",
              "    </tr>\n",
              "  </thead>\n",
              "  <tbody>\n",
              "    <tr>\n",
              "      <th>0</th>\n",
              "      <td>Berlin</td>\n",
              "      <td>Germany</td>\n",
              "      <td>13.405000</td>\n",
              "      <td>52.520000</td>\n",
              "    </tr>\n",
              "    <tr>\n",
              "      <th>1</th>\n",
              "      <td>Hamburg</td>\n",
              "      <td>Germany</td>\n",
              "      <td>10.000000</td>\n",
              "      <td>53.550000</td>\n",
              "    </tr>\n",
              "    <tr>\n",
              "      <th>2</th>\n",
              "      <td>Munich</td>\n",
              "      <td>Germany</td>\n",
              "      <td>11.575000</td>\n",
              "      <td>48.137500</td>\n",
              "    </tr>\n",
              "    <tr>\n",
              "      <th>3</th>\n",
              "      <td>Paris</td>\n",
              "      <td>France</td>\n",
              "      <td>2.352222</td>\n",
              "      <td>48.856667</td>\n",
              "    </tr>\n",
              "    <tr>\n",
              "      <th>4</th>\n",
              "      <td>Leipzig</td>\n",
              "      <td>Germany</td>\n",
              "      <td>12.375000</td>\n",
              "      <td>51.340000</td>\n",
              "    </tr>\n",
              "    <tr>\n",
              "      <th>5</th>\n",
              "      <td>Halle (Saale)</td>\n",
              "      <td>Germany</td>\n",
              "      <td>11.969722</td>\n",
              "      <td>51.482778</td>\n",
              "    </tr>\n",
              "    <tr>\n",
              "      <th>6</th>\n",
              "      <td>Dresden</td>\n",
              "      <td>Germany</td>\n",
              "      <td>13.740000</td>\n",
              "      <td>51.050000</td>\n",
              "    </tr>\n",
              "    <tr>\n",
              "      <th>7</th>\n",
              "      <td>Chemnitz</td>\n",
              "      <td>Germany</td>\n",
              "      <td>12.916667</td>\n",
              "      <td>50.833333</td>\n",
              "    </tr>\n",
              "    <tr>\n",
              "      <th>8</th>\n",
              "      <td>Cologne</td>\n",
              "      <td>Germany</td>\n",
              "      <td>6.952778</td>\n",
              "      <td>50.936389</td>\n",
              "    </tr>\n",
              "    <tr>\n",
              "      <th>9</th>\n",
              "      <td>Bremen</td>\n",
              "      <td>Germany</td>\n",
              "      <td>8.807222</td>\n",
              "      <td>53.075833</td>\n",
              "    </tr>\n",
              "  </tbody>\n",
              "</table>\n",
              "</div>"
            ],
            "text/plain": [
              "       city_name  country  longitude   latitude\n",
              "0         Berlin  Germany  13.405000  52.520000\n",
              "1        Hamburg  Germany  10.000000  53.550000\n",
              "2         Munich  Germany  11.575000  48.137500\n",
              "3          Paris   France   2.352222  48.856667\n",
              "4        Leipzig  Germany  12.375000  51.340000\n",
              "5  Halle (Saale)  Germany  11.969722  51.482778\n",
              "6        Dresden  Germany  13.740000  51.050000\n",
              "7       Chemnitz  Germany  12.916667  50.833333\n",
              "8        Cologne  Germany   6.952778  50.936389\n",
              "9         Bremen  Germany   8.807222  53.075833"
            ]
          },
          "execution_count": 16,
          "metadata": {},
          "output_type": "execute_result"
        }
      ],
      "source": [
        "cities_df = city_scrape(city_names)\n",
        "cities_df"
      ]
    },
    {
      "cell_type": "markdown",
      "metadata": {},
      "source": [
        "Push data to SQL:"
      ]
    },
    {
      "cell_type": "code",
      "execution_count": 17,
      "metadata": {},
      "outputs": [
        {
          "name": "stdout",
          "output_type": "stream",
          "text": [
            "cities table successfully updated\n"
          ]
        }
      ],
      "source": [
        "push_cities(cities_df)"
      ]
    }
  ],
  "metadata": {
    "colab": {
      "provenance": []
    },
    "kernelspec": {
      "display_name": "Python 3",
      "name": "python3"
    },
    "language_info": {
      "codemirror_mode": {
        "name": "ipython",
        "version": 3
      },
      "file_extension": ".py",
      "mimetype": "text/x-python",
      "name": "python",
      "nbconvert_exporter": "python",
      "pygments_lexer": "ipython3",
      "version": "3.11.7"
    }
  },
  "nbformat": 4,
  "nbformat_minor": 0
}
