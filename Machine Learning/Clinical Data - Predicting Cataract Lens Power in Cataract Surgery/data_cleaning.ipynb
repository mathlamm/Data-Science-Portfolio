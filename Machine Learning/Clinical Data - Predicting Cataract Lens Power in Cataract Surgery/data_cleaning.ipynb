{
 "cells": [
  {
   "cell_type": "markdown",
   "metadata": {},
   "source": [
    "# Fidus Data Cleaning\n",
    "\n",
    "There are 3 tables exported from the Clinical Patient Management Software:\n",
    "\n",
    "1. Patient data: Patnr, sex, date of birth\n",
    "2. Surgery data: Patnr, date of surgery, lens model and refraction power, surgeon, comments, etc\n",
    "3. Refraction data: patnr, date, refraction measures\n",
    "\n",
    "The general Process is:\n",
    "1. Clean each table\n",
    "2. Validation tests\n",
    "3. Remove unnecessary data\n",
    "4. Merge tables into one\n",
    "5. Compute further data e.g., age at surgery\n"
   ]
  },
  {
   "cell_type": "code",
   "execution_count": 2,
   "metadata": {},
   "outputs": [],
   "source": [
    "# import libraries\n",
    "import pandas as pd\n",
    "import numpy as np\n",
    "from dateutil.relativedelta import relativedelta\n",
    "import re\n",
    "import matplotlib.pyplot as plt\n",
    "import seaborn as sns\n",
    "import os\n",
    "\n",
    "\n",
    "# Function to calculate age\n",
    "def calculate_age(birthdate, refr_date):\n",
    "    return relativedelta(refr_date, birthdate).years"
   ]
  },
  {
   "cell_type": "code",
   "execution_count": 3,
   "metadata": {},
   "outputs": [],
   "source": [
    "# Define test patients\n",
    "patnr_test = [1, 2, 100013, 189512, 738761, 979315]"
   ]
  },
  {
   "cell_type": "markdown",
   "metadata": {},
   "source": [
    "# 1. Patient Data"
   ]
  },
  {
   "cell_type": "code",
   "execution_count": 4,
   "metadata": {},
   "outputs": [],
   "source": [
    "# read csv file\n",
    "patdat = pd.read_csv(\"data/FIDUS/patdat.csv\", sep=\";\", encoding='ISO-8859-1')"
   ]
  },
  {
   "cell_type": "markdown",
   "metadata": {},
   "source": [
    "Manipulations:\n",
    "- rename and translate colum names\n",
    "- remove empty columns\n",
    "- change dtype of birthdate (datetime) and sex (boolean)"
   ]
  },
  {
   "cell_type": "code",
   "execution_count": 5,
   "metadata": {},
   "outputs": [],
   "source": [
    "# drop empty column\n",
    "patdat = patdat.drop([\"Unnamed: 0\"], axis=1)\n",
    "\n",
    "# rename columns\n",
    "patdat.rename(columns={\"GEB\" : \"birthdate\", \"GES\": \"sex\"}, inplace=True)\n",
    "\n",
    "# remove test patients\n",
    "patdat = patdat.loc[~patdat.patnr.isin(patnr_test)]"
   ]
  },
  {
   "cell_type": "code",
   "execution_count": 6,
   "metadata": {},
   "outputs": [],
   "source": [
    "# delete wrong (missing) birthdates\n",
    "patdat.loc[patdat.birthdate == \"00:00:00\", \"birthdate\"] = \"\"\n",
    "\n",
    "# change dtype of datum\n",
    "patdat.birthdate = pd.to_datetime(patdat.birthdate, dayfirst=True)"
   ]
  },
  {
   "cell_type": "code",
   "execution_count": 8,
   "metadata": {},
   "outputs": [
    {
     "name": "stdout",
     "output_type": "stream",
     "text": [
      "<class 'pandas.core.frame.DataFrame'>\n",
      "Index: 176798 entries, 0 to 176803\n",
      "Data columns (total 3 columns):\n",
      " #   Column     Non-Null Count   Dtype         \n",
      "---  ------     --------------   -----         \n",
      " 0   patnr      176798 non-null  int64         \n",
      " 1   birthdate  176352 non-null  datetime64[ns]\n",
      " 2   sex        176798 non-null  int64         \n",
      "dtypes: datetime64[ns](1), int64(2)\n",
      "memory usage: 5.4 MB\n"
     ]
    }
   ],
   "source": [
    "patdat.info()"
   ]
  },
  {
   "cell_type": "markdown",
   "metadata": {},
   "source": [
    "# 2. Surgery Data"
   ]
  },
  {
   "cell_type": "code",
   "execution_count": 9,
   "metadata": {},
   "outputs": [],
   "source": [
    "surg = pd.read_excel(\"data/FIDUS/ops.xlsx\")"
   ]
  },
  {
   "cell_type": "code",
   "execution_count": 10,
   "metadata": {},
   "outputs": [
    {
     "name": "stdout",
     "output_type": "stream",
     "text": [
      "<class 'pandas.core.frame.DataFrame'>\n",
      "RangeIndex: 34717 entries, 0 to 34716\n",
      "Data columns (total 19 columns):\n",
      " #   Column            Non-Null Count  Dtype         \n",
      "---  ------            --------------  -----         \n",
      " 0   Unnamed: 0        0 non-null      float64       \n",
      " 1   patnr             34717 non-null  int64         \n",
      " 2   datum             34717 non-null  datetime64[ns]\n",
      " 3   OP_Datum_R        17510 non-null  object        \n",
      " 4   OP_Datum_R_count  34717 non-null  int64         \n",
      " 5   OP_Datum_L        17267 non-null  object        \n",
      " 6   OP_Datum_L_count  34717 non-null  int64         \n",
      " 7   OP_Art_R          17663 non-null  object        \n",
      " 8   OP_Art_R_count    34717 non-null  int64         \n",
      " 9   OP_Art_L          17429 non-null  object        \n",
      " 10  OP_Art_L_count    34717 non-null  int64         \n",
      " 11  Linse_RA_R        16523 non-null  object        \n",
      " 12  Linse_RA_L        16301 non-null  object        \n",
      " 13  Operateur_R       17701 non-null  object        \n",
      " 14  Operateur_L       17461 non-null  object        \n",
      " 15  OP_Bericht_R      4019 non-null   object        \n",
      " 16  OP_Bemerkung_R    6838 non-null   object        \n",
      " 17  OP_Bericht_L      4039 non-null   object        \n",
      " 18  OP_Bemerkung_L    6628 non-null   object        \n",
      "dtypes: datetime64[ns](1), float64(1), int64(5), object(12)\n",
      "memory usage: 5.0+ MB\n"
     ]
    }
   ],
   "source": [
    "surg.info()"
   ]
  },
  {
   "cell_type": "markdown",
   "metadata": {},
   "source": [
    "### Clean Data \n",
    "\n",
    "- remove test patients\n",
    "- remove unneeded columns: empty and count columns\n",
    "- remove occasions with more then one surgery per patient and day\n",
    "- remove occasions without lens information (surgery without implantion)\n",
    "- convert wide-to-long - use each eye as one datapoint\n",
    "- remove for now occasions with unmatching dates: *surg_date* is a value from the surgery information, and *date* is an ID as part of the entity. n=69. UPDATE: After validation, I used date as the the more reliable column"
   ]
  },
  {
   "cell_type": "code",
   "execution_count": 11,
   "metadata": {},
   "outputs": [],
   "source": [
    "# drop empty column\n",
    "surg = surg.drop([\"Unnamed: 0\"], axis=1)\n",
    "\n",
    "# remove test patients\n",
    "surg = surg.loc[~surg.patnr.isin(patnr_test)]"
   ]
  },
  {
   "cell_type": "code",
   "execution_count": 13,
   "metadata": {},
   "outputs": [],
   "source": [
    "# occasions with > 1 surgery per patient and day: 11R + 7L\n",
    "surg.loc[(surg.OP_Datum_R_count > 1) | (surg.OP_Datum_L_count > 1)]\n",
    "\n",
    "# remove those\n",
    "surg = surg.loc[~((surg.OP_Datum_R_count > 1) | (surg.OP_Datum_L_count > 1))]\n",
    "\n",
    "# remove count columns\n",
    "surg = surg.drop([\"OP_Datum_R_count\", \"OP_Datum_L_count\", \"OP_Art_R_count\", \"OP_Art_L_count\"], axis=1)"
   ]
  },
  {
   "cell_type": "code",
   "execution_count": 15,
   "metadata": {},
   "outputs": [],
   "source": [
    "# combine R and L side by melting from wide to long format  -> 69400 rows\n",
    "surg_long = pd.wide_to_long(\n",
    "    surg,\n",
    "    stubnames=[\n",
    "        \"OP_Datum\",\n",
    "        \"OP_Art\",\n",
    "        \"Linse_RA\",\n",
    "        \"Operateur\",\n",
    "        \"OP_Bericht\",\n",
    "        \"OP_Bemerkung\",\n",
    "    ],\n",
    "    i=[\"patnr\", \"datum\"],\n",
    "    j=\"side\",\n",
    "    suffix=\"[RL]\",\n",
    "    sep=\"_\",\n",
    ").reset_index()\n",
    "\n",
    "# delete all rows with no lens information. This includes NA-entries from the previous mode of storage (only one eye-surgery per date) AND surgeries without implants -> 32810 rows\n",
    "surg_long = surg_long.dropna(subset = [\"Linse_RA\"])\n",
    "\n",
    "# change column names to english\n",
    "surg_long = surg_long.rename(columns={\"datum\":\"date\", \"OP_Datum\":\"surg_date\", \"OP_Art\": \"procedure\", \"Linse_RA\": \"lens\", \"Operateur\": \"surgeon\", \"OP_Bericht\": \"surg_note_1\", \"OP_Bemerkung\":\"surg_note_2\"})\n",
    "\n",
    "# change dtype of surg_date\n",
    "surg_long[\"surg_date\"] = pd.to_datetime(surg_long.surg_date, dayfirst=True)"
   ]
  },
  {
   "cell_type": "code",
   "execution_count": null,
   "metadata": {},
   "outputs": [],
   "source": [
    "# test if surg_date = date (should be)\n",
    "surg_long.loc[surg_long.date != surg_long.surg_date].drop([\"surgeon\", \"surg_note_1\", \"surg_note_2\"], axis=1)"
   ]
  },
  {
   "cell_type": "code",
   "execution_count": 17,
   "metadata": {},
   "outputs": [],
   "source": [
    "# remove those lines for now (n=69)\n",
    "#surg_long = surg_long.loc[surg_long.date == surg_long.surg_date]\n",
    "\n",
    "# after following uo on these cases, \"date\" is the always correct date \n",
    "surg_long = surg_long.drop(\"surg_date\", axis=1).rename(columns={\"date\":\"surg_date\"})"
   ]
  },
  {
   "cell_type": "code",
   "execution_count": 18,
   "metadata": {},
   "outputs": [
    {
     "name": "stdout",
     "output_type": "stream",
     "text": [
      "<class 'pandas.core.frame.DataFrame'>\n",
      "Index: 32798 entries, 1 to 69314\n",
      "Data columns (total 8 columns):\n",
      " #   Column       Non-Null Count  Dtype         \n",
      "---  ------       --------------  -----         \n",
      " 0   patnr        32798 non-null  int64         \n",
      " 1   surg_date    32798 non-null  datetime64[ns]\n",
      " 2   side         32798 non-null  object        \n",
      " 3   procedure    32789 non-null  object        \n",
      " 4   lens         32798 non-null  object        \n",
      " 5   surgeon      32797 non-null  object        \n",
      " 6   surg_note_1  7257 non-null   object        \n",
      " 7   surg_note_2  13029 non-null  object        \n",
      "dtypes: datetime64[ns](1), int64(1), object(6)\n",
      "memory usage: 2.3+ MB\n"
     ]
    }
   ],
   "source": [
    "surg_long.info()"
   ]
  },
  {
   "cell_type": "markdown",
   "metadata": {},
   "source": [
    "### Implant Surgeries per Day  "
   ]
  },
  {
   "cell_type": "code",
   "execution_count": 19,
   "metadata": {},
   "outputs": [
    {
     "data": {
      "text/plain": [
       "patnr          18.752430\n",
       "side           18.752430\n",
       "procedure      18.747284\n",
       "lens           18.752430\n",
       "surgeon        18.751858\n",
       "surg_note_1     4.149228\n",
       "surg_note_2     7.449400\n",
       "dtype: float64"
      ]
     },
     "execution_count": 19,
     "metadata": {},
     "output_type": "execute_result"
    }
   ],
   "source": [
    "surg_long.groupby(\"surg_date\").count().mean()"
   ]
  },
  {
   "cell_type": "markdown",
   "metadata": {},
   "source": [
    "### Select Surgical Procedure Types\n",
    "\n",
    "Type of surgeries - clinical decision on what to include\n",
    "\n",
    "Include:\n",
    "- pimäre Implantation einer\n",
    "- einer Monofokal-, torischen oder EDOF-Linse \n",
    "- durch Phakoemulsifikation oder Phemto-laser \n",
    "- in den Kapselsack\n",
    "\n",
    "Exclude\n",
    "- sekundäre OPs\n",
    "- Linsen: Multifokal, verisyse (nicht im Kapselsack)\n",
    "- Femto-Laser zur Astigmatismusreduktion"
   ]
  },
  {
   "cell_type": "code",
   "execution_count": 20,
   "metadata": {},
   "outputs": [],
   "source": [
    "included_surgeries = [\"Phakoemulsifikation in Tropfanästhesie mit Implantation einer Monofokallinse\",\n",
    "                      \"femtolaserassistierte Kataraktchirurgie (FLACS) in Tropfanästhesie mit Implantation einer Monofokallinse\",\n",
    "                      \"Phakoemulsifikation in Tropfanästhesie mit Implantation einer torischen Intraokularlinse\",\n",
    "                      \"femtolaserassistierte Kataraktchirurgie (FLACS) in Tropfanästhesie mit Implantation einer torischen Intraokularlinse\"\n",
    "                      \"femtolaserassistierte Kataraktchirurgie (FLACS)  in Tropfanästhesie mit Implantation einer torischen Intraokularlinse\",\n",
    "                      \"femtolaserassistierte Kataraktchirurgie (FLACS) in Tropfanästhesie mit Implantation einer Monofokallinse\",\n",
    "                      \"femtolaserassistierte Kataraktchirurgie (FLACS)  in Tropfanästhesie mit Implantation einer Monofokallinse mit erweitertem Intermediärbereich\",\n",
    "                      #\"femtolaserassistierte Kataraktchirurgie (FLACS) mit Astigmatismusausgleich in Tropfanästhesie mit Implantation einer Monofokallinse\",\n",
    "                      \"femtolaserassistierte Kataraktchirurgie (FLACS)  in Tropfanästhesie mit Implantation einer torischen Monofokallinse mit erweitertem Intermediärbereich\",\n",
    "                      \"Phakoemulsifikation in Tropfänesthesie mit Implantation einer Monofokallinse mit erweitertem Intermediärbereich\",\n",
    "                      \"femtolaserassistierte Kataraktchirurgie (FLACS)  in Tropfanästhesie mit Implantation einer torischen Intraokularlinse mit erweitertem Intermediärbereich\",\n",
    "                      \"Phakoemulsifikation in Tropfanästhesie mit Implantation einer torischen Monofokallinse\",\n",
    "                      \"Phakoemulsifikation in Tropfanästhesie mit Implantation einer Monofokallinse mit erweitertem Intermediärbereich\",\n",
    "                      \"Phakoemulsifikation in Tropfanästhesie mit Implantation einer torischen Intraokularlinse mit erweitertem Intermediärbereich\",\n",
    "                      \"Phakoemulsifikation in Tropfänesthesie mit Implantation einer torischen Monofokallinse mit erweitertem Intermediärbereich\",\n",
    "                      \"femtolaserassistierte Kataraktchirurgie (FLACS)  in Tropfanästhesie mit Implantation einer Monofokallinse (AI)\",\n",
    "                      \"femtolaserassistierte Kataraktchirurgie (FLACS)  in Tropfanästhesie mit Implantation einer torischen Monofokallinse mit erweiterten intermediären Bereich\",\n",
    "                      \"Phakoemulsifikation in Tropfänesthesie mit Implantation einer Monofokallinse mit erweitertem intermediärem Bereich\",\n",
    "                      \"femtolaserassistierte Kataraktchirurgie (FLACS)  in Tropfanästhesie mit Implantation einer torischen Monofokallinse\",\n",
    "                      \"femtolaserassistierte Kataraktchirurgie (FLACS) in Tropfanästhesie mit Implantation einer torischen Intraokularlinse mit erweitertem Intermediärbereich\",\n",
    "                      \"femtolaserassistierte Kataraktchirurgie (FLACS)  in Tropfanästhesie mit Implantation einer Intraokularlinse mit erweitertem Intermediärbereich\",\n",
    "                      \"Phakoemulsifikation in Tropfanästhesie mit Implantation einer torischen Monofokallinse mit erweitertem Intermediärbereich\",\n",
    "                      \"femtolaserassistierte Kataraktchirurgie (FLACS)  in Tropfanästhesie mit Implantation einer torischen IOL\",\n",
    "                      \"Phakoemulsifikation in Tropfanästhesie mit Implantation einer Intraokularlinse mit erweitertem Intermediärbereich\",\n",
    "                      \"Phakoemulsifikation in Tropfänesthesie mit Implantation einer torischen Intraokularlinse mit erweitertem Intermediärbereich\",\n",
    "                      \"Phakoemulsifikation in Tropfanästhesie mit Implantation einer torischen Monofokallinse mit erweiterten intermediären Bereich\",\n",
    "                      \"femtolaserassistierte Kataraktchirurgie (FLACS)  in Tropfanästhesie mit Implantation einer Monofokallinse mit erweitertem intermediärem Bereich\",\n",
    "                      \"femtolaserassistierte Kataraktchirurgie (FLACS)  in Tropfanästhesie mit Implantation einer Monofokallinse mit erweiterten intermediären Bereich\",\n",
    "                      \"FLACS in Tropfanästhesie mit Implantation einer Monofokallinse\",\n",
    "                      \"Phakoemulsifikation in Tropfanästhesie mit Implantation einer torischen Intraokularlinse mit erweitertem intermediärem Bereich\",\n",
    "                      \"Phakoemulsifikation in Tropfanästhesie mit Implantation einer Monofokallinse mit erweiterten intermediären Bereich\",\n",
    "                      \"femtolaserassistierte Kataraktchirurgie (FLACS)  in Tropfanästhesie mit Implantation einer torischen Intraokularlinse mit erweitertem intermediärem Bereich\",\n",
    "                      \"femtolaserassistierte Kataraktchirurgie (FLACS)  in Tropfanästhesie mit Implantation einer Monofokallinse mit Astigmatismusausgleich\",\n",
    "                      \"Phakoemulsifikation in Tropfanästhesie mit Implantation einer torischen Intraokularlinse mit erweiterten Intermediärbereich\",\n",
    "                      \"Phakoemulsifikation in Tropfanästhesie mit Implantation einer torischen IOL\"\n",
    "                      \n",
    "                      ]"
   ]
  },
  {
   "cell_type": "code",
   "execution_count": 21,
   "metadata": {},
   "outputs": [
    {
     "data": {
      "text/html": [
       "<div>\n",
       "<style scoped>\n",
       "    .dataframe tbody tr th:only-of-type {\n",
       "        vertical-align: middle;\n",
       "    }\n",
       "\n",
       "    .dataframe tbody tr th {\n",
       "        vertical-align: top;\n",
       "    }\n",
       "\n",
       "    .dataframe thead th {\n",
       "        text-align: right;\n",
       "    }\n",
       "</style>\n",
       "<table border=\"1\" class=\"dataframe\">\n",
       "  <thead>\n",
       "    <tr style=\"text-align: right;\">\n",
       "      <th></th>\n",
       "      <th>procedure</th>\n",
       "      <th>count</th>\n",
       "    </tr>\n",
       "  </thead>\n",
       "  <tbody>\n",
       "    <tr>\n",
       "      <th>0</th>\n",
       "      <td>Phakoemulsifikation in Tropfanästhesie mit Imp...</td>\n",
       "      <td>21857</td>\n",
       "    </tr>\n",
       "    <tr>\n",
       "      <th>1</th>\n",
       "      <td>femtolaserassistierte Kataraktchirurgie (FLACS...</td>\n",
       "      <td>2262</td>\n",
       "    </tr>\n",
       "    <tr>\n",
       "      <th>2</th>\n",
       "      <td>Phakoemulsifikation in Tropfanästhesie mit Imp...</td>\n",
       "      <td>1536</td>\n",
       "    </tr>\n",
       "    <tr>\n",
       "      <th>3</th>\n",
       "      <td>femtolaserassistierte Kataraktchirurgie (FLACS...</td>\n",
       "      <td>605</td>\n",
       "    </tr>\n",
       "    <tr>\n",
       "      <th>4</th>\n",
       "      <td>Explantation einer kalzifizierten IOL mit Impl...</td>\n",
       "      <td>420</td>\n",
       "    </tr>\n",
       "    <tr>\n",
       "      <th>...</th>\n",
       "      <td>...</td>\n",
       "      <td>...</td>\n",
       "    </tr>\n",
       "    <tr>\n",
       "      <th>821</th>\n",
       "      <td>femtolaserassierter refraktiver Linsenaustausc...</td>\n",
       "      <td>1</td>\n",
       "    </tr>\n",
       "    <tr>\n",
       "      <th>822</th>\n",
       "      <td>femtolaserassistierte Kataraktchirurgie (FLACS...</td>\n",
       "      <td>1</td>\n",
       "    </tr>\n",
       "    <tr>\n",
       "      <th>823</th>\n",
       "      <td>femtolaserassistierte Kataraktchirurgie in Tro...</td>\n",
       "      <td>1</td>\n",
       "    </tr>\n",
       "    <tr>\n",
       "      <th>824</th>\n",
       "      <td>femtolaserasistierter refraktiver Linsenaustau...</td>\n",
       "      <td>1</td>\n",
       "    </tr>\n",
       "    <tr>\n",
       "      <th>825</th>\n",
       "      <td>femtolaserassistierter refraktiver Linsenausta...</td>\n",
       "      <td>1</td>\n",
       "    </tr>\n",
       "  </tbody>\n",
       "</table>\n",
       "<p>826 rows × 2 columns</p>\n",
       "</div>"
      ],
      "text/plain": [
       "                                             procedure  count\n",
       "0    Phakoemulsifikation in Tropfanästhesie mit Imp...  21857\n",
       "1    femtolaserassistierte Kataraktchirurgie (FLACS...   2262\n",
       "2    Phakoemulsifikation in Tropfanästhesie mit Imp...   1536\n",
       "3    femtolaserassistierte Kataraktchirurgie (FLACS...    605\n",
       "4    Explantation einer kalzifizierten IOL mit Impl...    420\n",
       "..                                                 ...    ...\n",
       "821  femtolaserassierter refraktiver Linsenaustausc...      1\n",
       "822  femtolaserassistierte Kataraktchirurgie (FLACS...      1\n",
       "823  femtolaserassistierte Kataraktchirurgie in Tro...      1\n",
       "824  femtolaserasistierter refraktiver Linsenaustau...      1\n",
       "825  femtolaserassistierter refraktiver Linsenausta...      1\n",
       "\n",
       "[826 rows x 2 columns]"
      ]
     },
     "execution_count": 21,
     "metadata": {},
     "output_type": "execute_result"
    }
   ],
   "source": [
    "pd.reset_option(\"display.max_colwidth\", None)\n",
    "pd.reset_option(\"display.max_rows\", None)\n",
    "x = pd.DataFrame(surg_long.procedure.value_counts()).reset_index()#.to_csv(\"data/temp_procedure_count.csv\", index=False)\n",
    "x"
   ]
  },
  {
   "cell_type": "code",
   "execution_count": 22,
   "metadata": {},
   "outputs": [],
   "source": [
    "# remove excluded surgery types\n",
    "surg_long = surg_long.loc[surg_long[\"procedure\"].isin(included_surgeries)]"
   ]
  },
  {
   "cell_type": "markdown",
   "metadata": {},
   "source": [
    "### Select surgeon\n",
    "\n",
    "only look at data from one surgeon."
   ]
  },
  {
   "cell_type": "code",
   "execution_count": null,
   "metadata": {},
   "outputs": [],
   "source": [
    "# find the surgeons\n",
    "surgeon = \"surgeonname\"\n",
    "pd.DataFrame(surg_long.surgeon.value_counts()).reset_index().assign(\n",
    "    str_find=lambda x: x.surgeon.str.contains(surgeon, case=False)\n",
    ")"
   ]
  },
  {
   "cell_type": "code",
   "execution_count": null,
   "metadata": {},
   "outputs": [],
   "source": [
    "# keep only those surgeries performed by this surgeon. Drop surgeon column\n",
    "surg_long = (\n",
    "    surg_long.loc[surg_long.surgeon.str.contains(surgeon, case=False) == True]\n",
    "    .drop([\"surgeon\"], axis=1)\n",
    ")\n",
    "\n",
    "surg_long"
   ]
  },
  {
   "cell_type": "markdown",
   "metadata": {},
   "source": [
    "### Multiple Surgery-patients\n"
   ]
  },
  {
   "cell_type": "code",
   "execution_count": 25,
   "metadata": {},
   "outputs": [
    {
     "data": {
      "text/plain": [
       "3"
      ]
     },
     "execution_count": 25,
     "metadata": {},
     "output_type": "execute_result"
    }
   ],
   "source": [
    "# find patients with more than 2 implant surgeries \n",
    "id_count = pd.DataFrame(surg_long.patnr.value_counts()).reset_index()\n",
    "id_sel = id_count.loc[id_count[\"count\"] > 2, \"patnr\"]\n",
    "\n",
    "# Nr of patients:\n",
    "len(id_sel)"
   ]
  },
  {
   "cell_type": "code",
   "execution_count": null,
   "metadata": {},
   "outputs": [],
   "source": [
    "# List those cases\n",
    "with pd.option_context(\"display.max_colwidth\", None):\n",
    "    display(\n",
    "        surg_long.loc[surg_long.patnr.isin(id_sel)]\n",
    "        .drop([\"surg_note_1\", \"surg_note_2\"], axis=1)\n",
    "        .sort_values([\"patnr\", \"surg_date\"])\n",
    "        #.to_csv(\"data/temp_multiple_proc.csv\", index=False)\n",
    "    )\n",
    "\n",
    "# in these 3 cases the implanted lens was the same.\n",
    "# but the output ignores the possiblity of a patient having two surgeries on one eye but not the other.."
   ]
  },
  {
   "cell_type": "code",
   "execution_count": null,
   "metadata": {},
   "outputs": [],
   "source": [
    "# find patients with more then 1 surgery on one eye \n",
    "x = (surg_long.groupby([\"patnr\", \"side\"]).count()>1).max(axis=1).reset_index()\n",
    "ids_plus1_surgery_per_eye = x.loc[x[0] == 1, [\"patnr\", \"side\"]]\n",
    "ids_plus1_surgery_per_eye"
   ]
  },
  {
   "cell_type": "code",
   "execution_count": 28,
   "metadata": {},
   "outputs": [],
   "source": [
    "# merge with surg_long on both identifiers, patnr and side, to remove those cases\n",
    "temp_merge = surg_long.merge(ids_plus1_surgery_per_eye, \"left\", on=[\"patnr\", \"side\"], indicator=True)\n",
    "surg_long = temp_merge[temp_merge._merge == \"left_only\"]\n",
    "surg_long = surg_long.drop([\"_merge\"], axis=1)"
   ]
  },
  {
   "cell_type": "markdown",
   "metadata": {},
   "source": [
    "the table now contains one surgery per eye"
   ]
  },
  {
   "cell_type": "markdown",
   "metadata": {},
   "source": [
    "### Extract Lens Information"
   ]
  },
  {
   "cell_type": "code",
   "execution_count": 29,
   "metadata": {},
   "outputs": [],
   "source": [
    "# define new boolean column \"torisch\"\n",
    "surg_long['torisch'] = surg_long['lens'].str.contains('cyl', case=False, na=False)\n",
    "\n",
    "# extract astigmatism refraction value\n",
    "def extract_decimal_after_cyl(text):\n",
    "    # Search for a pattern where 'cyl' is followed by any non-digit characters (including spaces and symbols)\n",
    "    # and then captures the following digits which might include a comma or point as decimal separator\n",
    "    match = re.search(r'cyl[^0-9]*([\\d,\\.]+)', text, re.IGNORECASE)\n",
    "    if match:\n",
    "        # Replace comma with dot if found and return the number\n",
    "        return (match.group(1).replace(',', '.'))\n",
    "    return None\n",
    "\n",
    "# Create the 'torisch_dpt' column using the function\n",
    "surg_long['IOL_torisch_dpt'] = surg_long['lens'].apply(extract_decimal_after_cyl)\n",
    "\n",
    "# remove single point in some cases\n",
    "surg_long.loc[surg_long['IOL_torisch_dpt'] == \".\", \"IOL_torisch_dpt\"] = \"\"\n",
    "\n",
    "# convert to float\n",
    "surg_long['IOL_torisch_dpt'] = pd.to_numeric(surg_long['IOL_torisch_dpt'])\n",
    "\n",
    "\n",
    "# Function to extract the main dpt value - the first number which includes a decimal comma\n",
    "def extract_first_number(text):\n",
    "    # Regular expression to find the first occurrence of a number with a decimal comma\n",
    "    match = re.search(r'-?\\s*\\d+[,.]\\d+', text)\n",
    "    if match:\n",
    "        # Replace comma with dot for decimal places and convert to float\n",
    "        return float(match.group().replace(',', '.').replace(' ', ''))\n",
    "\n",
    "# run the function\n",
    "surg_long['IOL_dpt'] = surg_long['lens'].apply(extract_first_number)\n",
    "\n",
    "\n",
    "# a new variable lens_series, that only contains the lens series\n",
    "def remove_dpt(text):\n",
    "    return re.sub(r'[+-]?\\s*\\d+[,.]\\d+.*$', '', text)\n",
    "\n",
    "# Apply the function to create a new column that removes text before the number\n",
    "surg_long['lens_series'] = surg_long['lens'].apply(remove_dpt)\n",
    "\n",
    "# remove all . and , and strips empty spaces\n",
    "surg_long['lens_series'] = surg_long['lens_series'].str.replace('[.,]', '', regex=True).str.strip()\n"
   ]
  },
  {
   "cell_type": "code",
   "execution_count": 30,
   "metadata": {},
   "outputs": [
    {
     "data": {
      "text/html": [
       "<div>\n",
       "<style scoped>\n",
       "    .dataframe tbody tr th:only-of-type {\n",
       "        vertical-align: middle;\n",
       "    }\n",
       "\n",
       "    .dataframe tbody tr th {\n",
       "        vertical-align: top;\n",
       "    }\n",
       "\n",
       "    .dataframe thead th {\n",
       "        text-align: right;\n",
       "    }\n",
       "</style>\n",
       "<table border=\"1\" class=\"dataframe\">\n",
       "  <thead>\n",
       "    <tr style=\"text-align: right;\">\n",
       "      <th></th>\n",
       "      <th>lens</th>\n",
       "      <th>torisch</th>\n",
       "      <th>IOL_torisch_dpt</th>\n",
       "      <th>IOL_dpt</th>\n",
       "      <th>lens_series</th>\n",
       "    </tr>\n",
       "  </thead>\n",
       "  <tbody>\n",
       "    <tr>\n",
       "      <th>21976</th>\n",
       "      <td>Teleon LS-313 T4 17,0 Cyl. 3,75</td>\n",
       "      <td>True</td>\n",
       "      <td>3.75</td>\n",
       "      <td>17.0</td>\n",
       "      <td>Teleon LS-313 T4</td>\n",
       "    </tr>\n",
       "    <tr>\n",
       "      <th>18378</th>\n",
       "      <td>Oculentis LS-313 T1 21.0 cyl 1.5</td>\n",
       "      <td>True</td>\n",
       "      <td>1.50</td>\n",
       "      <td>21.0</td>\n",
       "      <td>Oculentis LS-313 T1</td>\n",
       "    </tr>\n",
       "    <tr>\n",
       "      <th>17726</th>\n",
       "      <td>Domilens AS66-Y 24,5</td>\n",
       "      <td>False</td>\n",
       "      <td>NaN</td>\n",
       "      <td>24.5</td>\n",
       "      <td>Domilens AS66-Y</td>\n",
       "    </tr>\n",
       "    <tr>\n",
       "      <th>18933</th>\n",
       "      <td>Oculentis LS-313 MF15 20,5</td>\n",
       "      <td>False</td>\n",
       "      <td>NaN</td>\n",
       "      <td>20.5</td>\n",
       "      <td>Oculentis LS-313 MF15</td>\n",
       "    </tr>\n",
       "    <tr>\n",
       "      <th>5237</th>\n",
       "      <td>Domilens AS66-Y 21,5</td>\n",
       "      <td>False</td>\n",
       "      <td>NaN</td>\n",
       "      <td>21.5</td>\n",
       "      <td>Domilens AS66-Y</td>\n",
       "    </tr>\n",
       "    <tr>\n",
       "      <th>20934</th>\n",
       "      <td>Teleon L-313 22.5</td>\n",
       "      <td>False</td>\n",
       "      <td>NaN</td>\n",
       "      <td>22.5</td>\n",
       "      <td>Teleon L-313</td>\n",
       "    </tr>\n",
       "    <tr>\n",
       "      <th>5762</th>\n",
       "      <td>Domilens AS66-Y 24,0</td>\n",
       "      <td>False</td>\n",
       "      <td>NaN</td>\n",
       "      <td>24.0</td>\n",
       "      <td>Domilens AS66-Y</td>\n",
       "    </tr>\n",
       "    <tr>\n",
       "      <th>684</th>\n",
       "      <td>Domilens AS66-Y 13,0</td>\n",
       "      <td>False</td>\n",
       "      <td>NaN</td>\n",
       "      <td>13.0</td>\n",
       "      <td>Domilens AS66-Y</td>\n",
       "    </tr>\n",
       "    <tr>\n",
       "      <th>6896</th>\n",
       "      <td>Domilens AS66-Y 19,0</td>\n",
       "      <td>False</td>\n",
       "      <td>NaN</td>\n",
       "      <td>19.0</td>\n",
       "      <td>Domilens AS66-Y</td>\n",
       "    </tr>\n",
       "    <tr>\n",
       "      <th>10093</th>\n",
       "      <td>Laserlens LB-313 G 23,5</td>\n",
       "      <td>False</td>\n",
       "      <td>NaN</td>\n",
       "      <td>23.5</td>\n",
       "      <td>Laserlens LB-313 G</td>\n",
       "    </tr>\n",
       "    <tr>\n",
       "      <th>19393</th>\n",
       "      <td>Oculentis LS-313 MF15 19,5</td>\n",
       "      <td>False</td>\n",
       "      <td>NaN</td>\n",
       "      <td>19.5</td>\n",
       "      <td>Oculentis LS-313 MF15</td>\n",
       "    </tr>\n",
       "    <tr>\n",
       "      <th>19990</th>\n",
       "      <td>Oculentis LS-313 MF15 20,0</td>\n",
       "      <td>False</td>\n",
       "      <td>NaN</td>\n",
       "      <td>20.0</td>\n",
       "      <td>Oculentis LS-313 MF15</td>\n",
       "    </tr>\n",
       "    <tr>\n",
       "      <th>11393</th>\n",
       "      <td>Domilens Nexload-System SZ1 25,5</td>\n",
       "      <td>False</td>\n",
       "      <td>NaN</td>\n",
       "      <td>25.5</td>\n",
       "      <td>Domilens Nexload-System SZ1</td>\n",
       "    </tr>\n",
       "    <tr>\n",
       "      <th>16836</th>\n",
       "      <td>Domilens AS66-Y 24,0</td>\n",
       "      <td>False</td>\n",
       "      <td>NaN</td>\n",
       "      <td>24.0</td>\n",
       "      <td>Domilens AS66-Y</td>\n",
       "    </tr>\n",
       "    <tr>\n",
       "      <th>14599</th>\n",
       "      <td>Domilens 677 ADY -3,0</td>\n",
       "      <td>False</td>\n",
       "      <td>NaN</td>\n",
       "      <td>-3.0</td>\n",
       "      <td>Domilens 677 ADY</td>\n",
       "    </tr>\n",
       "    <tr>\n",
       "      <th>20400</th>\n",
       "      <td>Teleon LS-313 T0 21,0 cyl 0,75</td>\n",
       "      <td>True</td>\n",
       "      <td>0.75</td>\n",
       "      <td>21.0</td>\n",
       "      <td>Teleon LS-313 T0</td>\n",
       "    </tr>\n",
       "    <tr>\n",
       "      <th>21945</th>\n",
       "      <td>Teleon LS-313 MF 15 T0 17.0 Cyl. 0.75</td>\n",
       "      <td>True</td>\n",
       "      <td>0.75</td>\n",
       "      <td>17.0</td>\n",
       "      <td>Teleon LS-313 MF 15 T0</td>\n",
       "    </tr>\n",
       "    <tr>\n",
       "      <th>5892</th>\n",
       "      <td>Domilens Nexload-System SZ1 14,5</td>\n",
       "      <td>False</td>\n",
       "      <td>NaN</td>\n",
       "      <td>14.5</td>\n",
       "      <td>Domilens Nexload-System SZ1</td>\n",
       "    </tr>\n",
       "    <tr>\n",
       "      <th>20588</th>\n",
       "      <td>Teleon LS-313 T3 17,5 cyl 3,0</td>\n",
       "      <td>True</td>\n",
       "      <td>3.00</td>\n",
       "      <td>17.5</td>\n",
       "      <td>Teleon LS-313 T3</td>\n",
       "    </tr>\n",
       "    <tr>\n",
       "      <th>19066</th>\n",
       "      <td>Oculentis LS-313 T1 17,5 cyl 1,5</td>\n",
       "      <td>True</td>\n",
       "      <td>1.50</td>\n",
       "      <td>17.5</td>\n",
       "      <td>Oculentis LS-313 T1</td>\n",
       "    </tr>\n",
       "    <tr>\n",
       "      <th>1889</th>\n",
       "      <td>Oculentis LS-313 T0 25.5 cyl 0,75</td>\n",
       "      <td>True</td>\n",
       "      <td>0.75</td>\n",
       "      <td>25.5</td>\n",
       "      <td>Oculentis LS-313 T0</td>\n",
       "    </tr>\n",
       "    <tr>\n",
       "      <th>9460</th>\n",
       "      <td>Oculentis LS-313 19,0 cyl 3,0</td>\n",
       "      <td>True</td>\n",
       "      <td>3.00</td>\n",
       "      <td>19.0</td>\n",
       "      <td>Oculentis LS-313</td>\n",
       "    </tr>\n",
       "    <tr>\n",
       "      <th>1445</th>\n",
       "      <td>Teleon LS-313 T3 19,5  CYL  3,0</td>\n",
       "      <td>True</td>\n",
       "      <td>3.00</td>\n",
       "      <td>19.5</td>\n",
       "      <td>Teleon LS-313 T3</td>\n",
       "    </tr>\n",
       "    <tr>\n",
       "      <th>21898</th>\n",
       "      <td>Teleon LS-313 MF 15T3  24,0  CYL  3,0</td>\n",
       "      <td>True</td>\n",
       "      <td>3.00</td>\n",
       "      <td>24.0</td>\n",
       "      <td>Teleon LS-313 MF 15T3</td>\n",
       "    </tr>\n",
       "    <tr>\n",
       "      <th>4475</th>\n",
       "      <td>Teleon LS-313 MF 15  22,0</td>\n",
       "      <td>False</td>\n",
       "      <td>NaN</td>\n",
       "      <td>22.0</td>\n",
       "      <td>Teleon LS-313 MF 15</td>\n",
       "    </tr>\n",
       "    <tr>\n",
       "      <th>5603</th>\n",
       "      <td>Oculentis LS-313 T1 20,0  Cyl 1,5</td>\n",
       "      <td>True</td>\n",
       "      <td>1.50</td>\n",
       "      <td>20.0</td>\n",
       "      <td>Oculentis LS-313 T1</td>\n",
       "    </tr>\n",
       "    <tr>\n",
       "      <th>19868</th>\n",
       "      <td>Oculentis LS-313 T3  19,5  Cyl. 3,00</td>\n",
       "      <td>True</td>\n",
       "      <td>3.00</td>\n",
       "      <td>19.5</td>\n",
       "      <td>Oculentis LS-313 T3</td>\n",
       "    </tr>\n",
       "    <tr>\n",
       "      <th>1939</th>\n",
       "      <td>Teleon LS-313 T0 21,5 cyl 0,75</td>\n",
       "      <td>True</td>\n",
       "      <td>0.75</td>\n",
       "      <td>21.5</td>\n",
       "      <td>Teleon LS-313 T0</td>\n",
       "    </tr>\n",
       "    <tr>\n",
       "      <th>1264</th>\n",
       "      <td>Domilens AS66-Y 22,5</td>\n",
       "      <td>False</td>\n",
       "      <td>NaN</td>\n",
       "      <td>22.5</td>\n",
       "      <td>Domilens AS66-Y</td>\n",
       "    </tr>\n",
       "    <tr>\n",
       "      <th>19955</th>\n",
       "      <td>Teleon LS-313 MF 15T1 24,0 cyl 1,5</td>\n",
       "      <td>True</td>\n",
       "      <td>1.50</td>\n",
       "      <td>24.0</td>\n",
       "      <td>Teleon LS-313 MF 15T1</td>\n",
       "    </tr>\n",
       "  </tbody>\n",
       "</table>\n",
       "</div>"
      ],
      "text/plain": [
       "                                        lens  torisch  IOL_torisch_dpt  \\\n",
       "21976        Teleon LS-313 T4 17,0 Cyl. 3,75     True             3.75   \n",
       "18378       Oculentis LS-313 T1 21.0 cyl 1.5     True             1.50   \n",
       "17726                   Domilens AS66-Y 24,5    False              NaN   \n",
       "18933             Oculentis LS-313 MF15 20,5    False              NaN   \n",
       "5237                    Domilens AS66-Y 21,5    False              NaN   \n",
       "20934                      Teleon L-313 22.5    False              NaN   \n",
       "5762                    Domilens AS66-Y 24,0    False              NaN   \n",
       "684                     Domilens AS66-Y 13,0    False              NaN   \n",
       "6896                    Domilens AS66-Y 19,0    False              NaN   \n",
       "10093                Laserlens LB-313 G 23,5    False              NaN   \n",
       "19393             Oculentis LS-313 MF15 19,5    False              NaN   \n",
       "19990             Oculentis LS-313 MF15 20,0    False              NaN   \n",
       "11393       Domilens Nexload-System SZ1 25,5    False              NaN   \n",
       "16836                   Domilens AS66-Y 24,0    False              NaN   \n",
       "14599                  Domilens 677 ADY -3,0    False              NaN   \n",
       "20400         Teleon LS-313 T0 21,0 cyl 0,75     True             0.75   \n",
       "21945  Teleon LS-313 MF 15 T0 17.0 Cyl. 0.75     True             0.75   \n",
       "5892        Domilens Nexload-System SZ1 14,5    False              NaN   \n",
       "20588          Teleon LS-313 T3 17,5 cyl 3,0     True             3.00   \n",
       "19066       Oculentis LS-313 T1 17,5 cyl 1,5     True             1.50   \n",
       "1889       Oculentis LS-313 T0 25.5 cyl 0,75     True             0.75   \n",
       "9460           Oculentis LS-313 19,0 cyl 3,0     True             3.00   \n",
       "1445         Teleon LS-313 T3 19,5  CYL  3,0     True             3.00   \n",
       "21898  Teleon LS-313 MF 15T3  24,0  CYL  3,0     True             3.00   \n",
       "4475               Teleon LS-313 MF 15  22,0    False              NaN   \n",
       "5603       Oculentis LS-313 T1 20,0  Cyl 1,5     True             1.50   \n",
       "19868   Oculentis LS-313 T3  19,5  Cyl. 3,00     True             3.00   \n",
       "1939          Teleon LS-313 T0 21,5 cyl 0,75     True             0.75   \n",
       "1264                    Domilens AS66-Y 22,5    False              NaN   \n",
       "19955     Teleon LS-313 MF 15T1 24,0 cyl 1,5     True             1.50   \n",
       "\n",
       "       IOL_dpt                  lens_series  \n",
       "21976     17.0             Teleon LS-313 T4  \n",
       "18378     21.0          Oculentis LS-313 T1  \n",
       "17726     24.5              Domilens AS66-Y  \n",
       "18933     20.5        Oculentis LS-313 MF15  \n",
       "5237      21.5              Domilens AS66-Y  \n",
       "20934     22.5                 Teleon L-313  \n",
       "5762      24.0              Domilens AS66-Y  \n",
       "684       13.0              Domilens AS66-Y  \n",
       "6896      19.0              Domilens AS66-Y  \n",
       "10093     23.5           Laserlens LB-313 G  \n",
       "19393     19.5        Oculentis LS-313 MF15  \n",
       "19990     20.0        Oculentis LS-313 MF15  \n",
       "11393     25.5  Domilens Nexload-System SZ1  \n",
       "16836     24.0              Domilens AS66-Y  \n",
       "14599     -3.0             Domilens 677 ADY  \n",
       "20400     21.0             Teleon LS-313 T0  \n",
       "21945     17.0       Teleon LS-313 MF 15 T0  \n",
       "5892      14.5  Domilens Nexload-System SZ1  \n",
       "20588     17.5             Teleon LS-313 T3  \n",
       "19066     17.5          Oculentis LS-313 T1  \n",
       "1889      25.5          Oculentis LS-313 T0  \n",
       "9460      19.0             Oculentis LS-313  \n",
       "1445      19.5             Teleon LS-313 T3  \n",
       "21898     24.0        Teleon LS-313 MF 15T3  \n",
       "4475      22.0          Teleon LS-313 MF 15  \n",
       "5603      20.0          Oculentis LS-313 T1  \n",
       "19868     19.5          Oculentis LS-313 T3  \n",
       "1939      21.5             Teleon LS-313 T0  \n",
       "1264      22.5              Domilens AS66-Y  \n",
       "19955     24.0        Teleon LS-313 MF 15T1  "
      ]
     },
     "execution_count": 30,
     "metadata": {},
     "output_type": "execute_result"
    }
   ],
   "source": [
    "# find weird cases\n",
    "surg_long.loc[surg_long.lens.str.contains(\"\\-\"), [\"lens\", \"torisch\", \"IOL_torisch_dpt\", \"IOL_dpt\", \"lens_series\"]].sample(30)"
   ]
  },
  {
   "cell_type": "code",
   "execution_count": 31,
   "metadata": {},
   "outputs": [
    {
     "data": {
      "text/html": [
       "<div>\n",
       "<style scoped>\n",
       "    .dataframe tbody tr th:only-of-type {\n",
       "        vertical-align: middle;\n",
       "    }\n",
       "\n",
       "    .dataframe tbody tr th {\n",
       "        vertical-align: top;\n",
       "    }\n",
       "\n",
       "    .dataframe thead th {\n",
       "        text-align: right;\n",
       "    }\n",
       "</style>\n",
       "<table border=\"1\" class=\"dataframe\">\n",
       "  <thead>\n",
       "    <tr style=\"text-align: right;\">\n",
       "      <th></th>\n",
       "      <th>lens</th>\n",
       "      <th>torisch</th>\n",
       "      <th>IOL_torisch_dpt</th>\n",
       "      <th>IOL_dpt</th>\n",
       "      <th>lens_series</th>\n",
       "    </tr>\n",
       "  </thead>\n",
       "  <tbody>\n",
       "    <tr>\n",
       "      <th>9520</th>\n",
       "      <td>1stQ 690 ABY 19,0</td>\n",
       "      <td>False</td>\n",
       "      <td>NaN</td>\n",
       "      <td>19.0</td>\n",
       "      <td>1stQ 690 ABY</td>\n",
       "    </tr>\n",
       "    <tr>\n",
       "      <th>21657</th>\n",
       "      <td>Zeiss AT Torbi 709 M 21,0 cyl 2,0</td>\n",
       "      <td>True</td>\n",
       "      <td>2.0</td>\n",
       "      <td>21.0</td>\n",
       "      <td>Zeiss AT Torbi 709 M</td>\n",
       "    </tr>\n",
       "    <tr>\n",
       "      <th>6105</th>\n",
       "      <td>Oculentis LS-313 T3  12,5 cyl 3,0</td>\n",
       "      <td>True</td>\n",
       "      <td>3.0</td>\n",
       "      <td>12.5</td>\n",
       "      <td>Oculentis LS-313 T3</td>\n",
       "    </tr>\n",
       "    <tr>\n",
       "      <th>12796</th>\n",
       "      <td>1stQ 690 ABY 26,5</td>\n",
       "      <td>False</td>\n",
       "      <td>NaN</td>\n",
       "      <td>26.5</td>\n",
       "      <td>1stQ 690 ABY</td>\n",
       "    </tr>\n",
       "    <tr>\n",
       "      <th>6217</th>\n",
       "      <td>Domilens 677 ABY 20,5</td>\n",
       "      <td>False</td>\n",
       "      <td>NaN</td>\n",
       "      <td>20.5</td>\n",
       "      <td>Domilens 677 ABY</td>\n",
       "    </tr>\n",
       "    <tr>\n",
       "      <th>11857</th>\n",
       "      <td>1stQ 690 ABY 28,0</td>\n",
       "      <td>False</td>\n",
       "      <td>NaN</td>\n",
       "      <td>28.0</td>\n",
       "      <td>1stQ 690 ABY</td>\n",
       "    </tr>\n",
       "    <tr>\n",
       "      <th>9559</th>\n",
       "      <td>Domilens 677 ABY 21,5</td>\n",
       "      <td>False</td>\n",
       "      <td>NaN</td>\n",
       "      <td>21.5</td>\n",
       "      <td>Domilens 677 ABY</td>\n",
       "    </tr>\n",
       "    <tr>\n",
       "      <th>4311</th>\n",
       "      <td>Domilens 677 ABY 25,0</td>\n",
       "      <td>False</td>\n",
       "      <td>NaN</td>\n",
       "      <td>25.0</td>\n",
       "      <td>Domilens 677 ABY</td>\n",
       "    </tr>\n",
       "    <tr>\n",
       "      <th>4834</th>\n",
       "      <td>Zeiss AT Torbi 709 M 2,0 Cyl. 2.0</td>\n",
       "      <td>True</td>\n",
       "      <td>2.0</td>\n",
       "      <td>2.0</td>\n",
       "      <td>Zeiss AT Torbi 709 M</td>\n",
       "    </tr>\n",
       "    <tr>\n",
       "      <th>23101</th>\n",
       "      <td>Teleon Acunex AN6V 19,5 cyl 1,50</td>\n",
       "      <td>True</td>\n",
       "      <td>1.5</td>\n",
       "      <td>19.5</td>\n",
       "      <td>Teleon Acunex AN6V</td>\n",
       "    </tr>\n",
       "    <tr>\n",
       "      <th>15194</th>\n",
       "      <td>Domilens 677 ABY 21,5</td>\n",
       "      <td>False</td>\n",
       "      <td>NaN</td>\n",
       "      <td>21.5</td>\n",
       "      <td>Domilens 677 ABY</td>\n",
       "    </tr>\n",
       "    <tr>\n",
       "      <th>12176</th>\n",
       "      <td>1stQ 690 ABY  23,5</td>\n",
       "      <td>False</td>\n",
       "      <td>NaN</td>\n",
       "      <td>23.5</td>\n",
       "      <td>1stQ 690 ABY</td>\n",
       "    </tr>\n",
       "    <tr>\n",
       "      <th>1535</th>\n",
       "      <td>1stQ B1AWY0 25,0</td>\n",
       "      <td>False</td>\n",
       "      <td>NaN</td>\n",
       "      <td>25.0</td>\n",
       "      <td>1stQ B1AWY0</td>\n",
       "    </tr>\n",
       "    <tr>\n",
       "      <th>3621</th>\n",
       "      <td>Domilens 677 ABY 17,0</td>\n",
       "      <td>False</td>\n",
       "      <td>NaN</td>\n",
       "      <td>17.0</td>\n",
       "      <td>Domilens 677 ABY</td>\n",
       "    </tr>\n",
       "    <tr>\n",
       "      <th>3972</th>\n",
       "      <td>Domilens 677 ABY  20,50</td>\n",
       "      <td>False</td>\n",
       "      <td>NaN</td>\n",
       "      <td>20.5</td>\n",
       "      <td>Domilens 677 ABY</td>\n",
       "    </tr>\n",
       "    <tr>\n",
       "      <th>17319</th>\n",
       "      <td>Domilens 677 ABY 29,0</td>\n",
       "      <td>False</td>\n",
       "      <td>NaN</td>\n",
       "      <td>29.0</td>\n",
       "      <td>Domilens 677 ABY</td>\n",
       "    </tr>\n",
       "    <tr>\n",
       "      <th>7833</th>\n",
       "      <td>Domilens 677 ABY 21.0</td>\n",
       "      <td>False</td>\n",
       "      <td>NaN</td>\n",
       "      <td>21.0</td>\n",
       "      <td>Domilens 677 ABY</td>\n",
       "    </tr>\n",
       "    <tr>\n",
       "      <th>12533</th>\n",
       "      <td>Zeiss CT ASPHINA 509MP 21,5</td>\n",
       "      <td>False</td>\n",
       "      <td>NaN</td>\n",
       "      <td>21.5</td>\n",
       "      <td>Zeiss CT ASPHINA 509MP</td>\n",
       "    </tr>\n",
       "    <tr>\n",
       "      <th>21885</th>\n",
       "      <td>Domilens 677 ADY  22,0</td>\n",
       "      <td>False</td>\n",
       "      <td>NaN</td>\n",
       "      <td>22.0</td>\n",
       "      <td>Domilens 677 ADY</td>\n",
       "    </tr>\n",
       "    <tr>\n",
       "      <th>7967</th>\n",
       "      <td>Domilens 677 ABY 16,0</td>\n",
       "      <td>False</td>\n",
       "      <td>NaN</td>\n",
       "      <td>16.0</td>\n",
       "      <td>Domilens 677 ABY</td>\n",
       "    </tr>\n",
       "    <tr>\n",
       "      <th>1633</th>\n",
       "      <td>Domilens 677 ABY 16.5</td>\n",
       "      <td>False</td>\n",
       "      <td>NaN</td>\n",
       "      <td>16.5</td>\n",
       "      <td>Domilens 677 ABY</td>\n",
       "    </tr>\n",
       "    <tr>\n",
       "      <th>7924</th>\n",
       "      <td>MBI SAL 302A  18,0</td>\n",
       "      <td>False</td>\n",
       "      <td>NaN</td>\n",
       "      <td>18.0</td>\n",
       "      <td>MBI SAL 302A</td>\n",
       "    </tr>\n",
       "    <tr>\n",
       "      <th>22295</th>\n",
       "      <td>MBI SAL 302A  22,5</td>\n",
       "      <td>False</td>\n",
       "      <td>NaN</td>\n",
       "      <td>22.5</td>\n",
       "      <td>MBI SAL 302A</td>\n",
       "    </tr>\n",
       "    <tr>\n",
       "      <th>22025</th>\n",
       "      <td>Teleon LS-313 MF 15T3 16,5 Cyl. 3,0</td>\n",
       "      <td>True</td>\n",
       "      <td>3.0</td>\n",
       "      <td>16.5</td>\n",
       "      <td>Teleon LS-313 MF 15T3</td>\n",
       "    </tr>\n",
       "    <tr>\n",
       "      <th>18130</th>\n",
       "      <td>Domilens AS66-Y 19,5</td>\n",
       "      <td>False</td>\n",
       "      <td>NaN</td>\n",
       "      <td>19.5</td>\n",
       "      <td>Domilens AS66-Y</td>\n",
       "    </tr>\n",
       "    <tr>\n",
       "      <th>23793</th>\n",
       "      <td>Domilens AS-6Y 22.0</td>\n",
       "      <td>False</td>\n",
       "      <td>NaN</td>\n",
       "      <td>22.0</td>\n",
       "      <td>Domilens AS-6Y</td>\n",
       "    </tr>\n",
       "    <tr>\n",
       "      <th>23929</th>\n",
       "      <td>Alcon Clareon CNA0T0   22,5</td>\n",
       "      <td>False</td>\n",
       "      <td>NaN</td>\n",
       "      <td>22.5</td>\n",
       "      <td>Alcon Clareon CNA0T0</td>\n",
       "    </tr>\n",
       "    <tr>\n",
       "      <th>1967</th>\n",
       "      <td>Domilens 677 ABY 22,5</td>\n",
       "      <td>False</td>\n",
       "      <td>NaN</td>\n",
       "      <td>22.5</td>\n",
       "      <td>Domilens 677 ABY</td>\n",
       "    </tr>\n",
       "    <tr>\n",
       "      <th>3627</th>\n",
       "      <td>1stQ 690 ABY 19,0</td>\n",
       "      <td>False</td>\n",
       "      <td>NaN</td>\n",
       "      <td>19.0</td>\n",
       "      <td>1stQ 690 ABY</td>\n",
       "    </tr>\n",
       "    <tr>\n",
       "      <th>23564</th>\n",
       "      <td>Zeiss AT Torbi 719 MP 21,0 cyl 2,0</td>\n",
       "      <td>True</td>\n",
       "      <td>2.0</td>\n",
       "      <td>21.0</td>\n",
       "      <td>Zeiss AT Torbi 719 MP</td>\n",
       "    </tr>\n",
       "  </tbody>\n",
       "</table>\n",
       "</div>"
      ],
      "text/plain": [
       "                                      lens  torisch  IOL_torisch_dpt  IOL_dpt  \\\n",
       "9520                     1stQ 690 ABY 19,0    False              NaN     19.0   \n",
       "21657    Zeiss AT Torbi 709 M 21,0 cyl 2,0     True              2.0     21.0   \n",
       "6105     Oculentis LS-313 T3  12,5 cyl 3,0     True              3.0     12.5   \n",
       "12796                    1stQ 690 ABY 26,5    False              NaN     26.5   \n",
       "6217                 Domilens 677 ABY 20,5    False              NaN     20.5   \n",
       "11857                    1stQ 690 ABY 28,0    False              NaN     28.0   \n",
       "9559                 Domilens 677 ABY 21,5    False              NaN     21.5   \n",
       "4311                 Domilens 677 ABY 25,0    False              NaN     25.0   \n",
       "4834     Zeiss AT Torbi 709 M 2,0 Cyl. 2.0     True              2.0      2.0   \n",
       "23101     Teleon Acunex AN6V 19,5 cyl 1,50     True              1.5     19.5   \n",
       "15194                Domilens 677 ABY 21,5    False              NaN     21.5   \n",
       "12176                   1stQ 690 ABY  23,5    False              NaN     23.5   \n",
       "1535                      1stQ B1AWY0 25,0    False              NaN     25.0   \n",
       "3621                 Domilens 677 ABY 17,0    False              NaN     17.0   \n",
       "3972               Domilens 677 ABY  20,50    False              NaN     20.5   \n",
       "17319                Domilens 677 ABY 29,0    False              NaN     29.0   \n",
       "7833                 Domilens 677 ABY 21.0    False              NaN     21.0   \n",
       "12533          Zeiss CT ASPHINA 509MP 21,5    False              NaN     21.5   \n",
       "21885               Domilens 677 ADY  22,0    False              NaN     22.0   \n",
       "7967                 Domilens 677 ABY 16,0    False              NaN     16.0   \n",
       "1633                 Domilens 677 ABY 16.5    False              NaN     16.5   \n",
       "7924                    MBI SAL 302A  18,0    False              NaN     18.0   \n",
       "22295                   MBI SAL 302A  22,5    False              NaN     22.5   \n",
       "22025  Teleon LS-313 MF 15T3 16,5 Cyl. 3,0     True              3.0     16.5   \n",
       "18130                 Domilens AS66-Y 19,5    False              NaN     19.5   \n",
       "23793                  Domilens AS-6Y 22.0    False              NaN     22.0   \n",
       "23929          Alcon Clareon CNA0T0   22,5    False              NaN     22.5   \n",
       "1967                 Domilens 677 ABY 22,5    False              NaN     22.5   \n",
       "3627                     1stQ 690 ABY 19,0    False              NaN     19.0   \n",
       "23564   Zeiss AT Torbi 719 MP 21,0 cyl 2,0     True              2.0     21.0   \n",
       "\n",
       "                  lens_series  \n",
       "9520             1stQ 690 ABY  \n",
       "21657    Zeiss AT Torbi 709 M  \n",
       "6105      Oculentis LS-313 T3  \n",
       "12796            1stQ 690 ABY  \n",
       "6217         Domilens 677 ABY  \n",
       "11857            1stQ 690 ABY  \n",
       "9559         Domilens 677 ABY  \n",
       "4311         Domilens 677 ABY  \n",
       "4834     Zeiss AT Torbi 709 M  \n",
       "23101      Teleon Acunex AN6V  \n",
       "15194        Domilens 677 ABY  \n",
       "12176            1stQ 690 ABY  \n",
       "1535              1stQ B1AWY0  \n",
       "3621         Domilens 677 ABY  \n",
       "3972         Domilens 677 ABY  \n",
       "17319        Domilens 677 ABY  \n",
       "7833         Domilens 677 ABY  \n",
       "12533  Zeiss CT ASPHINA 509MP  \n",
       "21885        Domilens 677 ADY  \n",
       "7967         Domilens 677 ABY  \n",
       "1633         Domilens 677 ABY  \n",
       "7924             MBI SAL 302A  \n",
       "22295            MBI SAL 302A  \n",
       "22025   Teleon LS-313 MF 15T3  \n",
       "18130         Domilens AS66-Y  \n",
       "23793          Domilens AS-6Y  \n",
       "23929    Alcon Clareon CNA0T0  \n",
       "1967         Domilens 677 ABY  \n",
       "3627             1stQ 690 ABY  \n",
       "23564   Zeiss AT Torbi 719 MP  "
      ]
     },
     "execution_count": 31,
     "metadata": {},
     "output_type": "execute_result"
    }
   ],
   "source": [
    "surg_long[[\"lens\", \"torisch\", \"IOL_torisch_dpt\", \"IOL_dpt\", \"lens_series\"]].sample(30)"
   ]
  },
  {
   "cell_type": "code",
   "execution_count": null,
   "metadata": {},
   "outputs": [],
   "source": [
    "surg_long"
   ]
  },
  {
   "cell_type": "markdown",
   "metadata": {},
   "source": [
    "---\n",
    "\n",
    "# 3. Refraction Data"
   ]
  },
  {
   "cell_type": "code",
   "execution_count": 33,
   "metadata": {},
   "outputs": [
    {
     "name": "stdout",
     "output_type": "stream",
     "text": [
      "{'encoding': 'ascii', 'confidence': 1.0, 'language': ''}\n"
     ]
    }
   ],
   "source": [
    "# detect csv encoding type\n",
    "import chardet\n",
    "\n",
    "# Detect the character encoding of the CSV file\n",
    "with open(\"data/FIDUS/refra.csv\", 'rb') as file:\n",
    "    print(chardet.detect(file.read()))  # or file.read(10000) to read just the first 10000 bytes"
   ]
  },
  {
   "cell_type": "code",
   "execution_count": 34,
   "metadata": {},
   "outputs": [
    {
     "name": "stderr",
     "output_type": "stream",
     "text": [
      "C:\\Users\\nix-n\\AppData\\Local\\Temp\\ipykernel_24636\\1336586817.py:2: DtypeWarning: Columns (4,5,6,7,8,9) have mixed types. Specify dtype option on import or set low_memory=False.\n",
      "  refr = pd.read_csv(\"data/FIDUS/refra.csv\", sep=\";\", encoding='ISO-8859-1')\n"
     ]
    }
   ],
   "source": [
    "# read csv file\n",
    "refr = pd.read_csv(\"data/FIDUS/refra.csv\", sep=\";\", encoding='ISO-8859-1')"
   ]
  },
  {
   "cell_type": "code",
   "execution_count": 35,
   "metadata": {},
   "outputs": [
    {
     "name": "stdout",
     "output_type": "stream",
     "text": [
      "<class 'pandas.core.frame.DataFrame'>\n",
      "RangeIndex: 692874 entries, 0 to 692873\n",
      "Data columns (total 10 columns):\n",
      " #   Column      Non-Null Count   Dtype  \n",
      "---  ------      --------------   -----  \n",
      " 0   Unnamed: 0  0 non-null       float64\n",
      " 1   PATNR       692874 non-null  int64  \n",
      " 2   MESSDATUM   692874 non-null  object \n",
      " 3   NR          7576 non-null    float64\n",
      " 4   RSPHAERE    627082 non-null  object \n",
      " 5   RZYLINDER   580026 non-null  object \n",
      " 6   RACHSE      579994 non-null  object \n",
      " 7   LSPHAERE    626001 non-null  object \n",
      " 8   LZYLINDER   577618 non-null  object \n",
      " 9   LACHSE      577586 non-null  object \n",
      "dtypes: float64(2), int64(1), object(7)\n",
      "memory usage: 52.9+ MB\n"
     ]
    }
   ],
   "source": [
    "refr.info()"
   ]
  },
  {
   "cell_type": "markdown",
   "metadata": {},
   "source": [
    "### First Manipulations\n",
    "- delete empty columns \"Unnamed: 0\" and additional columns \"X\" - content not relevant, only 4 entries\n",
    "- dtype date\n",
    "- assign side and get rid of attribute name \"OReAVR:\"\n",
    "- translate column names to english"
   ]
  },
  {
   "cell_type": "code",
   "execution_count": 37,
   "metadata": {},
   "outputs": [],
   "source": [
    "# drop unneeded columns\n",
    "refr = refr.drop([\"Unnamed: 0\", \"NR\"], axis=1)\n",
    "\n",
    "# rename columns\n",
    "refr.rename(columns={\"PATNR\" : \"patnr\", \"MESSDATUM\":\"refr_date\", \"RSPHAERE\": \"sphere_R\", \"RZYLINDER\":\"cyl_R\", \"RACHSE\":\"ax_R\", \"LSPHAERE\": \"sphere_L\", \"LZYLINDER\":\"cyl_L\", \"LACHSE\":\"ax_L\"}, inplace=True)\n",
    "\n",
    "# remove test patients\n",
    "refr = refr.loc[~refr.patnr.isin(patnr_test)]\n",
    "\n",
    "# change dtype of datum\n",
    "refr[\"refr_date\"] = pd.to_datetime(refr[\"refr_date\"], dayfirst=True)\n",
    "\n",
    "# check for and remove duplicates\n",
    "refr.duplicated().sum() # -> 71\n",
    "refr.drop_duplicates(inplace=True)"
   ]
  },
  {
   "cell_type": "markdown",
   "metadata": {},
   "source": [
    "### Statistics: Age at first Refra"
   ]
  },
  {
   "cell_type": "code",
   "execution_count": null,
   "metadata": {},
   "outputs": [],
   "source": [
    "# Age at first measurement of each patient\n",
    "refr_ages_grouped = refr[[\"patnr\", \"refr_date\"]].groupby([\"patnr\"]).first().reset_index().merge(patdat, \"left\", \"patnr\").dropna(subset=[\"birthdate\"])\n",
    "refr_ages_grouped[\"age_at_first_refr\"] = refr_ages_grouped.apply(lambda row: calculate_age(row[\"birthdate\"], row[\"refr_date\"]), axis=1)\n",
    "\n",
    "# Add age at last measurement of each patient\n",
    "refr_ages_grouped2 = refr[[\"patnr\", \"refr_date\"]].groupby([\"patnr\"]).last().reset_index().merge(patdat, \"left\", \"patnr\").dropna(subset=[\"birthdate\"])\n",
    "refr_ages_grouped2[\"age_at_last_refr\"] = refr_ages_grouped2.apply(lambda row: calculate_age(row[\"birthdate\"], row[\"refr_date\"]), axis=1)\n",
    "refr_ages_grouped = pd.merge(refr_ages_grouped,refr_ages_grouped2[[\"patnr\", \"age_at_last_refr\"]], \"left\", \"patnr\")\n",
    "\n",
    "refr_ages_grouped"
   ]
  },
  {
   "cell_type": "code",
   "execution_count": 40,
   "metadata": {},
   "outputs": [
    {
     "data": {
      "text/plain": [
       "count    132357.000000\n",
       "mean         51.772358\n",
       "std          25.266383\n",
       "min          -8.000000\n",
       "25%          32.000000\n",
       "50%          55.000000\n",
       "75%          74.000000\n",
       "max         102.000000\n",
       "Name: age_at_last_refr, dtype: float64"
      ]
     },
     "execution_count": 40,
     "metadata": {},
     "output_type": "execute_result"
    }
   ],
   "source": [
    "refr_ages_grouped.age_at_first_refr.describe()\n",
    "refr_ages_grouped.age_at_last_refr.describe()"
   ]
  },
  {
   "cell_type": "markdown",
   "metadata": {},
   "source": [
    "there are some patients with negative ages..?"
   ]
  },
  {
   "cell_type": "code",
   "execution_count": null,
   "metadata": {},
   "outputs": [],
   "source": [
    "refr_ages_grouped.loc[refr_ages_grouped.age_at_first_refr<0]"
   ]
  },
  {
   "cell_type": "code",
   "execution_count": 44,
   "metadata": {},
   "outputs": [
    {
     "data": {
      "text/plain": [
       "<Axes: >"
      ]
     },
     "execution_count": 44,
     "metadata": {},
     "output_type": "execute_result"
    },
    {
     "data": {
      "image/png": "[encoded data removed]",
      "text/plain": [
       "<Figure size 640x480 with 1 Axes>"
      ]
     },
     "metadata": {},
     "output_type": "display_data"
    }
   ],
   "source": [
    "refr_ages_grouped.age_at_first_refr.hist(bins=109)"
   ]
  },
  {
   "cell_type": "code",
   "execution_count": 45,
   "metadata": {},
   "outputs": [
    {
     "data": {
      "text/plain": [
       "<Axes: >"
      ]
     },
     "execution_count": 45,
     "metadata": {},
     "output_type": "execute_result"
    },
    {
     "data": {
      "image/png": "[encoded data removed]",
      "text/plain": [
       "<Figure size 640x480 with 1 Axes>"
      ]
     },
     "metadata": {},
     "output_type": "display_data"
    }
   ],
   "source": [
    "refr_ages_grouped.age_at_last_refr.hist(bins=110)"
   ]
  },
  {
   "cell_type": "markdown",
   "metadata": {},
   "source": [
    "### Multiple refraction measurements per day and patient\n",
    "are there several measurements per patient and date? "
   ]
  },
  {
   "cell_type": "code",
   "execution_count": 46,
   "metadata": {},
   "outputs": [],
   "source": [
    "# several measures per patient and date\n",
    "refr_count = refr.groupby([\"patnr\", \"refr_date\"]).count()\n",
    "refr_count_3plus = refr_count.loc[(refr_count>2).sum(axis=1) != 0].reset_index()\n",
    "refr_count_2plus = refr_count.loc[(refr_count>1).sum(axis=1) != 0].reset_index()\n",
    "refr_count_2plus_age = refr_count_2plus.merge(patdat, \"left\", \"patnr\")\n",
    "\n",
    "# drop NA <- 1 row\n",
    "refr_count_2plus_age.dropna(subset=[\"birthdate\"], inplace=True)\n",
    "\n",
    "# Compute age at time of measurement \n",
    "refr_count_2plus_age[\"age_at_refr\"] = refr_count_2plus_age.apply(\n",
    "    lambda row: calculate_age(row[\"birthdate\"], row[\"refr_date\"]), axis=1\n",
    ")"
   ]
  },
  {
   "cell_type": "markdown",
   "metadata": {},
   "source": [
    "yes, 4500 to 6500 pairs are equal ->\n",
    "- get statistics on those with 2 measurements-> very different values? maybe just take the AVG?\n",
    "- remove those with more then 2 measurements (~115-180)"
   ]
  },
  {
   "cell_type": "code",
   "execution_count": 48,
   "metadata": {},
   "outputs": [
    {
     "data": {
      "text/plain": [
       "<Axes: >"
      ]
     },
     "execution_count": 48,
     "metadata": {},
     "output_type": "execute_result"
    },
    {
     "data": {
      "image/png": "[encoded data removed]",
      "text/plain": [
       "<Figure size 640x480 with 1 Axes>"
      ]
     },
     "metadata": {},
     "output_type": "display_data"
    }
   ],
   "source": [
    "refr_count_2plus_age.age_at_refr.hist(bins=90) # -> most of the patients with multiple refracts measurements seems to be children (as seen in FIDUS). "
   ]
  },
  {
   "cell_type": "code",
   "execution_count": null,
   "metadata": {},
   "outputs": [],
   "source": [
    "# How many adults? -> ~ 2500  can I disregard those are find another way to deal with the data?\n",
    "refr_count_2plus_age.loc[refr_count_2plus_age.age_at_refr >= 18].sample(30)"
   ]
  },
  {
   "cell_type": "markdown",
   "metadata": {},
   "source": [
    "results\n",
    "- many 2 and 3-measure datapoints are children <- those are excluded anyway\n",
    "- still around 2500 adults. we tested one: measured with and without contact lens. sadly, i dont have the commentary field of the measurements, thus I cant automatize the decision of what to do with those cases \n",
    "\n",
    "-> for now, remove all those from the dataset"
   ]
  },
  {
   "cell_type": "code",
   "execution_count": 50,
   "metadata": {},
   "outputs": [
    {
     "name": "stdout",
     "output_type": "stream",
     "text": [
      "Nr of measurements: 692672 \n",
      "Nr of measurements after exclusion: 679087  \n",
      "Nr of removed measurements: 13585\n"
     ]
    }
   ],
   "source": [
    "# Merge refr with refr_count_2plus_age to get the indicator\n",
    "merged = pd.merge(refr, refr_count_2plus[['patnr', 'refr_date']], on=['patnr', 'refr_date'], \n",
    "                  how='left', indicator=True)\n",
    "\n",
    "# Filter rows to find those only in the left DataFrame (original `refr`)\n",
    "refr_ = merged[merged['_merge'] == 'left_only']\n",
    "\n",
    "# remove indicator column\n",
    "refr_ = refr_.drop(columns=['_merge'])\n",
    "\n",
    "# these reamaning duplicates on id/day are seperate left/right measurements. I can merge those and keep them\n",
    "refr_leftright_sep = refr_.loc[refr_.duplicated(subset=['patnr', 'refr_date'], keep=False)]\n",
    "refr_leftright_sep_merge = refr_leftright_sep.groupby([\"patnr\", \"refr_date\"]).first().reset_index()\n",
    "refr_leftright_sep_merge\n",
    "\n",
    "# remove all duplicates and add merged duplicates (n=78)\n",
    "refr_ = refr_.drop_duplicates(subset=['patnr', 'refr_date'], keep=False)\n",
    "refr_ = pd.concat([refr_, refr_leftright_sep_merge], axis=0)\n",
    "\n",
    "# How many datapoints were removed?\n",
    "print(f\"Nr of measurements: {refr.patnr.count()} \\nNr of measurements after exclusion: {refr_.patnr.count()}  \\nNr of removed measurements: {refr.patnr.count()-refr_.patnr.count()}\")"
   ]
  },
  {
   "cell_type": "code",
   "execution_count": null,
   "metadata": {},
   "outputs": [],
   "source": [
    "refr_"
   ]
  },
  {
   "cell_type": "markdown",
   "metadata": {},
   "source": [
    "### Convert wide-to-long"
   ]
  },
  {
   "cell_type": "code",
   "execution_count": 52,
   "metadata": {},
   "outputs": [],
   "source": [
    "# convert to long format\n",
    "refr_long = pd.wide_to_long(\n",
    "    refr_,\n",
    "    stubnames=[\n",
    "        \"sphere\",\n",
    "        \"cyl\",\n",
    "        \"ax\"\n",
    "    ],\n",
    "    i=[\"patnr\", \"refr_date\"],\n",
    "    j=\"side\",\n",
    "    suffix=\"[RL]\",\n",
    "    sep=\"_\",\n",
    ").reset_index()"
   ]
  },
  {
   "cell_type": "markdown",
   "metadata": {},
   "source": [
    "### Clean measurements\n",
    "\n",
    "- in sphere: remove \"+\", keep \"-\"\n",
    "- remove other symbols \n",
    "- change \",\" to \".\"\n",
    "- remove anythying before that first (negative) digit and behind the last digit \n",
    "- convert all to INT "
   ]
  },
  {
   "cell_type": "code",
   "execution_count": 54,
   "metadata": {},
   "outputs": [
    {
     "name": "stdout",
     "output_type": "stream",
     "text": [
      "<class 'pandas.core.frame.DataFrame'>\n",
      "RangeIndex: 1358174 entries, 0 to 1358173\n",
      "Data columns (total 6 columns):\n",
      " #   Column     Non-Null Count    Dtype         \n",
      "---  ------     --------------    -----         \n",
      " 0   patnr      1358174 non-null  int64         \n",
      " 1   refr_date  1358174 non-null  datetime64[ns]\n",
      " 2   side       1358174 non-null  object        \n",
      " 3   sphere     1226307 non-null  object        \n",
      " 4   cyl        1135984 non-null  object        \n",
      " 5   ax         1135934 non-null  object        \n",
      "dtypes: datetime64[ns](1), int64(1), object(4)\n",
      "memory usage: 62.2+ MB\n"
     ]
    }
   ],
   "source": [
    "refr_long.info()"
   ]
  },
  {
   "cell_type": "code",
   "execution_count": 55,
   "metadata": {},
   "outputs": [
    {
     "data": {
      "text/plain": [
       "sphere\n",
       "+22.25    1\n",
       "^0,5      1\n",
       "-150      1\n",
       "+18.75    1\n",
       "-16,50    1\n",
       "+0,50^    1\n",
       "16.0      1\n",
       "17.75     1\n",
       "24.75     1\n",
       "OCT       1\n",
       "-0,84     1\n",
       "+3,025    1\n",
       "-27.5     1\n",
       "+4,10     1\n",
       "sc        1\n",
       "+,3,75    1\n",
       " Mo       1\n",
       "-29.75    1\n",
       "-15,75    1\n",
       "+0,2      1\n",
       "+ 11,0    1\n",
       "+1,2      1\n",
       "-28.75    1\n",
       "+ 2,00    1\n",
       "+ 1,00    1\n",
       "-5,,50    1\n",
       "+21.25    1\n",
       "+18,75    1\n",
       "-9,0      1\n",
       "+1,00     1\n",
       "Name: count, dtype: int64"
      ]
     },
     "execution_count": 55,
     "metadata": {},
     "output_type": "execute_result"
    }
   ],
   "source": [
    "refr_long.sphere.value_counts().tail(30)"
   ]
  },
  {
   "cell_type": "code",
   "execution_count": 56,
   "metadata": {},
   "outputs": [
    {
     "data": {
      "text/plain": [
       "0          -0.25\n",
       "1          -0.25\n",
       "2            NaN\n",
       "3          -0.25\n",
       "4            NaN\n",
       "           ...  \n",
       "1358169    -1.00\n",
       "1358170    -1.00\n",
       "1358171    -0.25\n",
       "1358172    -0.25\n",
       "1358173    -0.50\n",
       "Name: cyl, Length: 1358174, dtype: object"
      ]
     },
     "execution_count": 56,
     "metadata": {},
     "output_type": "execute_result"
    }
   ],
   "source": [
    "refr_long['cyl']"
   ]
  },
  {
   "cell_type": "code",
   "execution_count": null,
   "metadata": {},
   "outputs": [],
   "source": [
    "# test and find nr of instances for certain pattern\n",
    "pattern = \",\"\n",
    "measurement = 'ax'\n",
    "refr_long.loc[(refr_long[measurement].str.find(pattern) > -1)]"
   ]
  },
  {
   "cell_type": "code",
   "execution_count": 58,
   "metadata": {},
   "outputs": [],
   "source": [
    "# Clean column sphere\n",
    "refr_long['sphere'] = pd.to_numeric(refr_long['sphere']\n",
    "    .astype(str)\n",
    "    .str.replace(',', '.', regex=False)  # Replace commas with dots\n",
    "    .str.replace('[^0-9.-]', '', regex=True)  # Remove all non-numeric, non-dot, and non-minus characters\n",
    "    .str.replace('^[^\\d\\-]*', '', regex=True)  # Remove characters before the first digit or \"-\"\n",
    "    .str.replace('[^\\d]+$', '', regex=True)  # Remove characters after the last digit\n",
    "    .str.replace('--', '-', regex=False)  # just one instance\n",
    "    .str.replace('..', '.', regex=False)  # just one or few instances\n",
    "    .str.replace('-00', '', regex=False) # just one instance\n",
    ")\n",
    "\n",
    "# Normalize and clean the 'cyl' column to prepare 'cyl_2'\n",
    "refr_long['cyl_2'] = (\n",
    "    refr_long['cyl']\n",
    "    .astype(str)\n",
    "    .str.replace('[^0-9,-.]', '', regex=True)  # Remove unwanted characters, keeping digits, commas, dashes, and dots\n",
    "    .str.replace(',', '.', regex=False)  # Standardize all decimal separators to dot\n",
    ")\n",
    "\n",
    "# Correct negative numbers without decimal but starting with zero\n",
    "refr_long['cyl_2'] = refr_long['cyl_2'].str.replace(r'-(0+)(\\d+)', r'-0.\\2', regex=True)\n",
    "\n",
    "# Resolve issues with multiple signs or malformed numbers\n",
    "refr_long['cyl_2'] = (\n",
    "    refr_long['cyl_2']\n",
    "    .str.replace('--', '-', regex=False)  # Handle double negatives\n",
    "    .str.replace('-.', '-0.', regex=False)  # Fix negative decimal without leading zero\n",
    "    .str.replace('..', '.', regex=False)  # Fix multiple dots appearing erroneously\n",
    ")\n",
    "\n",
    "# Convert to numeric, handling errors\n",
    "refr_long['cyl_2'] = pd.to_numeric(refr_long['cyl_2'], errors='coerce')\n",
    "\n",
    "# drop old cyl and use cyl2\n",
    "refr_long = refr_long.drop([\"cyl\"], axis=1).rename(columns={\"cyl_2\":\"cyl\"})\n",
    "\n",
    "\n",
    "# Clean column ax\n",
    "refr_long[\"ax\"] = pd.to_numeric(\n",
    "    refr_long.ax.str.replace(\",\", \".\", regex=False)  # Replace commas with dots\n",
    ")"
   ]
  },
  {
   "cell_type": "code",
   "execution_count": null,
   "metadata": {},
   "outputs": [],
   "source": [
    "z = refr_long.sort_values(\"cyl\", ascending=True).head(30)\n",
    "z"
   ]
  },
  {
   "cell_type": "markdown",
   "metadata": {},
   "source": [
    "### Drop NAs and Duplicates"
   ]
  },
  {
   "cell_type": "code",
   "execution_count": 60,
   "metadata": {},
   "outputs": [],
   "source": [
    "refr_long = refr_long.drop_duplicates()"
   ]
  },
  {
   "cell_type": "code",
   "execution_count": 61,
   "metadata": {},
   "outputs": [],
   "source": [
    "refr_long = refr_long.dropna(subset=['sphere'])"
   ]
  },
  {
   "cell_type": "code",
   "execution_count": 62,
   "metadata": {},
   "outputs": [
    {
     "name": "stdout",
     "output_type": "stream",
     "text": [
      "<class 'pandas.core.frame.DataFrame'>\n",
      "Index: 1226295 entries, 0 to 1358173\n",
      "Data columns (total 6 columns):\n",
      " #   Column     Non-Null Count    Dtype         \n",
      "---  ------     --------------    -----         \n",
      " 0   patnr      1226295 non-null  int64         \n",
      " 1   refr_date  1226295 non-null  datetime64[ns]\n",
      " 2   side       1226295 non-null  object        \n",
      " 3   sphere     1226295 non-null  float64       \n",
      " 4   ax         462275 non-null   float64       \n",
      " 5   cyl        1135755 non-null  float64       \n",
      "dtypes: datetime64[ns](1), float64(3), int64(1), object(1)\n",
      "memory usage: 65.5+ MB\n"
     ]
    }
   ],
   "source": [
    "refr_long.info()"
   ]
  },
  {
   "cell_type": "markdown",
   "metadata": {},
   "source": [
    "---\n",
    "# 4.1 Optical Biometry IOL data"
   ]
  },
  {
   "cell_type": "code",
   "execution_count": 63,
   "metadata": {},
   "outputs": [],
   "source": [
    "iol_15 = pd.read_csv(\"data/iol_v1.5.csv\")\n",
    "iol_17 = pd.read_csv(\"data/iol_v1.7.csv\")\n",
    "iol_19 = pd.read_csv(\"data/iol_v1.9.csv\")"
   ]
  },
  {
   "cell_type": "code",
   "execution_count": 64,
   "metadata": {},
   "outputs": [],
   "source": [
    "iol_merge = pd.concat([iol_15, iol_17, iol_19])"
   ]
  },
  {
   "cell_type": "markdown",
   "metadata": {},
   "source": [
    "### Cleaning"
   ]
  },
  {
   "cell_type": "code",
   "execution_count": 65,
   "metadata": {},
   "outputs": [
    {
     "name": "stdout",
     "output_type": "stream",
     "text": [
      "<class 'pandas.core.frame.DataFrame'>\n",
      "Index: 20873 entries, 0 to 8404\n",
      "Data columns (total 35 columns):\n",
      " #   Column       Non-Null Count  Dtype \n",
      "---  ------       --------------  ----- \n",
      " 0   filename     20873 non-null  object\n",
      " 1   patnr        20873 non-null  int32 \n",
      " 2   exam_date    20871 non-null  object\n",
      " 3   comment      12055 non-null  object\n",
      " 4   lens_cat     20842 non-null  object\n",
      " 5   AL_R         20675 non-null  object\n",
      " 6   VKT_R        20712 non-null  object\n",
      " 7   LD_R         20680 non-null  object\n",
      " 8   R_R          20738 non-null  object\n",
      " 9   AL_SD_R      15535 non-null  object\n",
      " 10  VKT_SD_R     20661 non-null  object\n",
      " 11  LD_SD_R      14565 non-null  object\n",
      " 12  R1_R         20778 non-null  object\n",
      " 13  R2_R         20740 non-null  object\n",
      " 14  DeltaD_R     20300 non-null  object\n",
      " 15  R1_at_R      19902 non-null  object\n",
      " 16  R2_at_R      19927 non-null  object\n",
      " 17  DeltaD_at_R  19746 non-null  object\n",
      " 18  WZW_R        20550 non-null  object\n",
      " 19  RA_aim_R     20807 non-null  object\n",
      " 20  AL_L         20699 non-null  object\n",
      " 21  VKT_L        20718 non-null  object\n",
      " 22  LD_L         20676 non-null  object\n",
      " 23  R_L          20747 non-null  object\n",
      " 24  AL_SD_L      17566 non-null  object\n",
      " 25  VKT_SD_L     20664 non-null  object\n",
      " 26  LD_SD_L      17345 non-null  object\n",
      " 27  R1_L         20821 non-null  object\n",
      " 28  R2_L         20751 non-null  object\n",
      " 29  DeltaD_L     20220 non-null  object\n",
      " 30  R1_at_L      20152 non-null  object\n",
      " 31  R2_at_L      20271 non-null  object\n",
      " 32  DeltaD_at_L  19844 non-null  object\n",
      " 33  WZW_L        20507 non-null  object\n",
      " 34  RA_aim_L     20846 non-null  object\n",
      "dtypes: int32(1), object(34)\n",
      "memory usage: 5.7+ MB\n"
     ]
    }
   ],
   "source": [
    "# Patnr\n",
    "# There are 23 NA cases. Probabaly misreads. Remove for now, investigate later. \n",
    "iol_merge[\"patnr\"].isna().sum()\n",
    "iol_merge = iol_merge.dropna(subset=[\"patnr\"])\n",
    "\n",
    "# change dtype to int\n",
    "iol_merge[\"patnr\"] = iol_merge.patnr.astype(\"int\")\n",
    "iol_merge.info()\n",
    "\n",
    "\n",
    "\n",
    "# Exam_date\n",
    "# date was not alway extracted completely. n=181 (without v1.9) -> remove now, maybe correct scraping later\n",
    "iol_merge.loc[(iol_merge.exam_date.str.len() != 10)]\n",
    "iol_merge = iol_merge.loc[(iol_merge.exam_date.str.len() == 10)]\n",
    "\n",
    "# change date dtype\n",
    "iol_merge[\"exam_date\"] = pd.to_datetime(iol_merge.exam_date, dayfirst=True)\n",
    "\n",
    "\n",
    "\n",
    "# Lens category\n",
    "iol_merge[\"lens_cat\"].value_counts()\n",
    "\n",
    "# only keep: monofokal, torisch\n",
    "iol_merge = iol_merge.loc[iol_merge[\"lens_cat\"].isin([\"monofokal\", \"torisch\"])]\n",
    "\n",
    "\n",
    "# Refraction aim\n",
    "iol_merge.loc[iol_merge[\"RA_aim_L\"] == \"Plan\", [\"RA_aim_L\"]] = 0\n",
    "iol_merge.loc[iol_merge[\"RA_aim_R\"] == \"Plan\", [\"RA_aim_R\"]] = 0"
   ]
  },
  {
   "cell_type": "code",
   "execution_count": 66,
   "metadata": {},
   "outputs": [],
   "source": [
    "# Function to clean columns\n",
    "def clean_col(x):\n",
    "    return (x.astype(str)\n",
    "        .str.replace(\",\", \".\", regex=False)\n",
    "        .str.replace(\"[^0-9.]\", \"\", regex=True)\n",
    "        .str.replace(\"..\", \".\", regex=False)\n",
    "        .str.replace('\\.(?=\\D|$)', '', regex=True)  # remove dot, if followed by non-numeric character or at the end of the string\n",
    "    )\n",
    "\n",
    "# Function to insert decimals, if missing\n",
    "def insert_decimal(s):\n",
    "    if pd.isna(s):  # Check for NaN values and return as is\n",
    "        return s\n",
    "    s = str(s)  # Convert to string to ensure consistency in processing\n",
    "    if '.' not in s:  # Check if the decimal point is missing\n",
    "        if len(s) > 2:\n",
    "            s = s[:-2] + '.' + s[-2:]  # Insert the decimal point before the last two digits\n",
    "        else:\n",
    "            s \n",
    "    return s\n",
    "\n",
    "# define columns\n",
    "col_num = iol_merge.drop([\"filename\",\"patnr\", \"exam_date\", \"comment\", \"lens_cat\"], axis=1)\n",
    "\n",
    "# Apply cleaning function to multiple columns\n",
    "col_num = col_num.apply(clean_col)\n",
    "\n",
    "\n",
    "# insert digits in certain columns\n",
    "col_2dig = [\"AL_R\",\"VKT_R\", \"LD_R\", \"R_R\", \"R1_R\", \"R2_R\", \"DeltaD_R\", \"AL_L\",\"VKT_L\", \"LD_L\", \"R_L\", \"R1_L\", \"R2_L\", \"DeltaD_L\"]\n",
    "for col in col_2dig:\n",
    "    col_num[col] = col_num[col].apply(insert_decimal)\n",
    "\n",
    "# transform to numeric\n",
    "col_num = col_num.apply(pd.to_numeric)\n",
    "\n",
    "# save in iol_merge\n",
    "iol_merge[col_num.columns] = col_num\n"
   ]
  },
  {
   "cell_type": "code",
   "execution_count": 68,
   "metadata": {},
   "outputs": [
    {
     "name": "stdout",
     "output_type": "stream",
     "text": [
      "<class 'pandas.core.frame.DataFrame'>\n",
      "Index: 18339 entries, 1 to 8404\n",
      "Data columns (total 35 columns):\n",
      " #   Column       Non-Null Count  Dtype         \n",
      "---  ------       --------------  -----         \n",
      " 0   filename     18339 non-null  object        \n",
      " 1   patnr        18339 non-null  int32         \n",
      " 2   exam_date    18339 non-null  datetime64[ns]\n",
      " 3   comment      10555 non-null  object        \n",
      " 4   lens_cat     18339 non-null  object        \n",
      " 5   AL_R         18195 non-null  float64       \n",
      " 6   VKT_R        18250 non-null  float64       \n",
      " 7   LD_R         18219 non-null  float64       \n",
      " 8   R_R          18252 non-null  float64       \n",
      " 9   AL_SD_R      13602 non-null  float64       \n",
      " 10  VKT_SD_R     15385 non-null  float64       \n",
      " 11  LD_SD_R      12034 non-null  float64       \n",
      " 12  R1_R         18254 non-null  float64       \n",
      " 13  R2_R         18253 non-null  float64       \n",
      " 14  DeltaD_R     17864 non-null  float64       \n",
      " 15  R1_at_R      16801 non-null  float64       \n",
      " 16  R2_at_R      16989 non-null  float64       \n",
      " 17  DeltaD_at_R  13451 non-null  float64       \n",
      " 18  WZW_R        18059 non-null  float64       \n",
      " 19  RA_aim_R     18298 non-null  float64       \n",
      " 20  AL_L         18219 non-null  float64       \n",
      " 21  VKT_L        18248 non-null  float64       \n",
      " 22  LD_L         18211 non-null  float64       \n",
      " 23  R_L          18259 non-null  float64       \n",
      " 24  AL_SD_L      15393 non-null  float64       \n",
      " 25  VKT_SD_L     11488 non-null  float64       \n",
      " 26  LD_SD_L      14235 non-null  float64       \n",
      " 27  R1_L         18263 non-null  float64       \n",
      " 28  R2_L         18264 non-null  float64       \n",
      " 29  DeltaD_L     17813 non-null  float64       \n",
      " 30  R1_at_L      16965 non-null  float64       \n",
      " 31  R2_at_L      17325 non-null  float64       \n",
      " 32  DeltaD_at_L  13285 non-null  float64       \n",
      " 33  WZW_L        18009 non-null  float64       \n",
      " 34  RA_aim_L     18293 non-null  float64       \n",
      "dtypes: datetime64[ns](1), float64(30), int32(1), object(3)\n",
      "memory usage: 5.0+ MB\n"
     ]
    }
   ],
   "source": [
    "iol_merge.info()"
   ]
  },
  {
   "cell_type": "markdown",
   "metadata": {},
   "source": [
    "### Duplicates and Patnr Mismatches"
   ]
  },
  {
   "cell_type": "code",
   "execution_count": 69,
   "metadata": {},
   "outputs": [],
   "source": [
    "# any duplicates in general?  -> yes, ~2100\n",
    "iol_merge.drop([\"comment\", \"filename\"], axis=1).duplicated().sum()\n",
    "\n",
    "# drop these\n",
    "iol_merge = iol_merge.loc[~iol_merge.drop([\"comment\", \"filename\"], axis=1).duplicated()]"
   ]
  },
  {
   "cell_type": "code",
   "execution_count": 70,
   "metadata": {},
   "outputs": [],
   "source": [
    "# check validity of patnr \n",
    "# there are quiet some cases (n~500), where the patnrn in the pdf does not any patnr in die database. Its not a OCR misread, but rather a typing error by the clinic. \n",
    "iol_merge[~iol_merge[\"patnr\"].isin(patdat.patnr)]\n",
    "\n",
    "# Remove those cases for now, as there is no way to match the patients without their name\n",
    "iol_merge = iol_merge[iol_merge[\"patnr\"].isin(patdat.patnr)]"
   ]
  },
  {
   "cell_type": "markdown",
   "metadata": {},
   "source": [
    "### Multiple Measurements per Patient"
   ]
  },
  {
   "cell_type": "code",
   "execution_count": 71,
   "metadata": {},
   "outputs": [
    {
     "data": {
      "text/plain": [
       "5946"
      ]
     },
     "execution_count": 71,
     "metadata": {},
     "output_type": "execute_result"
    }
   ],
   "source": [
    "# multiple measures per patient\n",
    "iol_merge[iol_merge['patnr'].duplicated(keep=False)]['patnr'].nunique() # -> ~ 2500 distinct patnr have more than one measurement\n",
    "iol_merge.patnr.duplicated(keep=False).sum()  # ..summing to ~ 6000 cases"
   ]
  },
  {
   "cell_type": "code",
   "execution_count": null,
   "metadata": {},
   "outputs": [],
   "source": [
    "# and even multiple measures per date\n",
    "mult_meas = iol_merge.loc[\n",
    "    iol_merge.duplicated([\"patnr\", \"exam_date\"], keep=False),\n",
    "    [\n",
    "        \"patnr\",\n",
    "        \"exam_date\",\n",
    "        \"lens_cat\",\n",
    "        \"RA_aim_R\",\n",
    "        \"AL_R\",\n",
    "        \"VKT_R\",\n",
    "        \"LD_R\",\n",
    "        \"R_R\",\n",
    "        \"R1_R\",\n",
    "        \"R2_R\",\n",
    "        \"DeltaD_R\",\n",
    "        \"RA_aim_L\",\n",
    "        \"AL_L\",\n",
    "        \"VKT_L\",\n",
    "        \"LD_L\",\n",
    "        \"R_L\",\n",
    "        \"R1_L\",\n",
    "        \"R2_L\",\n",
    "        \"DeltaD_L\",\n",
    "        \"comment\",\n",
    "    ],\n",
    "].sort_values([\"patnr\", \"exam_date\"])\n",
    "\n",
    "mult_meas"
   ]
  },
  {
   "cell_type": "markdown",
   "metadata": {},
   "source": [
    "there are ~ 2500 distinct patnr with ~ 6000 measurements, that have multiple measurements per patients. And around 3400 of multiple measures per patient per date.\n",
    "\n",
    "for conversion to long-format, I have to find identifiers beside patnr and date: Lens category (monofokal vs torisch) and refraction aim are useful. After Converting annd merging the tablr with the surgeries table, it may get more clear because of corresponding time windows between the measurement and the surgery"
   ]
  },
  {
   "cell_type": "code",
   "execution_count": 73,
   "metadata": {},
   "outputs": [],
   "source": [
    "# introduce a new variable to further group the df according to if the measurement is made for aimed RA of 0 or more\n",
    "iol_merge[\"Refr_aim_deviant\"] = (iol_merge.RA_aim_R > 0 ) | (iol_merge.RA_aim_L > 0)"
   ]
  },
  {
   "cell_type": "code",
   "execution_count": 74,
   "metadata": {},
   "outputs": [
    {
     "data": {
      "text/plain": [
       "427"
      ]
     },
     "execution_count": 74,
     "metadata": {},
     "output_type": "execute_result"
    }
   ],
   "source": [
    "# show number of measurements per patnr and date and lens and refraction aim - still 427 patnr\n",
    "temp_mm = (iol_merge.groupby([\"patnr\", \"exam_date\", \"lens_cat\", \"Refr_aim_deviant\"]).count().max(axis=1) > 1 )\n",
    "temp_mm.sum()"
   ]
  },
  {
   "cell_type": "code",
   "execution_count": null,
   "metadata": {},
   "outputs": [],
   "source": [
    "# show these cases\n",
    "x = iol_merge.loc[iol_merge.duplicated([\"patnr\", \"exam_date\", \"lens_cat\", \"Refr_aim_deviant\"], keep=False)].sort_values([\"patnr\", \"exam_date\", \"lens_cat\"])\n",
    "x"
   ]
  },
  {
   "cell_type": "markdown",
   "metadata": {},
   "source": [
    "There are around 870 cases where ther are is more than one IOL measurement per patient, day, lens category and refraction-aim.\n",
    "\n",
    "I know no way, to auto-assume,which of these measurements is preferable or why there are multiple measurements anyway. \n",
    "\n",
    "Taking the mean of these values will be an okay for now, to deal with this."
   ]
  },
  {
   "cell_type": "code",
   "execution_count": 77,
   "metadata": {},
   "outputs": [],
   "source": [
    "# calculate mean of multiple iol measurements per patient, day, lens_cat and RA_aim -> reduce by aorund 400 rows. \n",
    "# We lose the str-columns that way: filepath and comment\n",
    "iol_ = (\n",
    "    iol_merge.groupby([\"patnr\", \"exam_date\", \"lens_cat\", \"Refr_aim_deviant\"])\n",
    "    .mean(numeric_only=True)\n",
    "    .reset_index()\n",
    ")\n"
   ]
  },
  {
   "cell_type": "markdown",
   "metadata": {},
   "source": [
    "### Long to Wide"
   ]
  },
  {
   "cell_type": "code",
   "execution_count": null,
   "metadata": {},
   "outputs": [],
   "source": [
    "# combine R and L side by melting from wide to long format  \n",
    "#iol_long = \n",
    "iol_long = pd.wide_to_long(\n",
    "    iol_,\n",
    "    stubnames=[\n",
    "        \"AL\",\n",
    "        \"VKT\",\n",
    "        \"LD\",\n",
    "        \"R\",\n",
    "        \"AL_SD\",\n",
    "        \"VKT_SD\",\n",
    "        \"LD_SD\",\n",
    "        \"R1\",\n",
    "        \"R2\",\n",
    "        \"DeltaD\",\n",
    "        \"R1_at\",\n",
    "        \"R2_at\",\n",
    "        \"DeltaD_at\",\n",
    "        \"WZW\",\n",
    "        \"RA_aim\"\n",
    "    ],\n",
    "    i=[\"patnr\", \"exam_date\", \"lens_cat\", \"Refr_aim_deviant\"],\n",
    "    j=\"side\",\n",
    "    suffix=\"[RL]\",\n",
    "    sep=\"_\",\n",
    ").reset_index()\n",
    "\n",
    "iol_long"
   ]
  },
  {
   "cell_type": "code",
   "execution_count": 79,
   "metadata": {},
   "outputs": [],
   "source": [
    "# drop NA rows\n",
    "iol_long = iol_long.dropna(subset=[\"AL\",\"VKT\", \"LD\", \"R\"], how=\"all\")"
   ]
  },
  {
   "cell_type": "markdown",
   "metadata": {},
   "source": [
    "# 4.2 IOL Lenses\n",
    "\n"
   ]
  },
  {
   "cell_type": "code",
   "execution_count": 82,
   "metadata": {},
   "outputs": [],
   "source": [
    "lens_v15 = pd.read_csv(\"data/iol_lenses_v1.5.csv\")\n",
    "lens_v17 = pd.read_csv(\"data/iol_lenses_v1.7.csv\")\n",
    "lens_v19 = pd.read_csv(\"data/iol_lenses_v1.9.csv\")"
   ]
  },
  {
   "cell_type": "code",
   "execution_count": 84,
   "metadata": {},
   "outputs": [],
   "source": [
    "lens_merge = pd.concat([lens_v15, lens_v17, lens_v19])"
   ]
  },
  {
   "cell_type": "code",
   "execution_count": 85,
   "metadata": {},
   "outputs": [
    {
     "name": "stdout",
     "output_type": "stream",
     "text": [
      "<class 'pandas.core.frame.DataFrame'>\n",
      "Index: 1414640 entries, 0 to 634199\n",
      "Data columns (total 11 columns):\n",
      " #   Column        Non-Null Count    Dtype  \n",
      "---  ------        --------------    -----  \n",
      " 0   filename      1414640 non-null  object \n",
      " 1   patnr         1414640 non-null  float64\n",
      " 2   exam_date     1414560 non-null  object \n",
      " 3   lens_cat      1414640 non-null  object \n",
      " 4   RA_aim        1412680 non-null  object \n",
      " 5   side          1414640 non-null  object \n",
      " 6   lens          1222860 non-null  object \n",
      " 7   v             1414640 non-null  int64  \n",
      " 8   iol           1184761 non-null  object \n",
      " 9   refr          1181824 non-null  object \n",
      " 10  lens_a_const  1209145 non-null  object \n",
      "dtypes: float64(1), int64(1), object(9)\n",
      "memory usage: 129.5+ MB\n"
     ]
    }
   ],
   "source": [
    "lens_merge.info()"
   ]
  },
  {
   "cell_type": "markdown",
   "metadata": {},
   "source": [
    "### Cleaning"
   ]
  },
  {
   "cell_type": "code",
   "execution_count": 86,
   "metadata": {},
   "outputs": [],
   "source": [
    "# Patnr\n",
    "lens_merge[\"patnr\"] = lens_merge[\"patnr\"].astype(\"int\")\n",
    "\n",
    "# Exam_date\n",
    "# date was not alway extracted completely.  -> remove now, maybe correct scraping later (n=31 for v1.5)\n",
    "lens_merge = lens_merge.loc[(lens_merge[\"exam_date\"].str.len() == 10)]\n",
    "lens_merge[\"exam_date\"] = pd.to_datetime(lens_merge[\"exam_date\"], dayfirst=True) \n",
    "\n",
    "# only keep: monofokal, torisch\n",
    "lens_merge = lens_merge.loc[lens_merge[\"lens_cat\"].isin([\"monofokal\", \"torisch\"])]\n",
    "\n",
    "# lens type\n",
    "lens_merge[\"lens\"] = lens_merge[\"lens\"].str.strip()\n",
    "\n",
    "# Recfraction aim\n",
    "# 0, when \"Plan\"\n",
    "lens_merge.loc[lens_merge[\"RA_aim\"].str.contains(\"Plan\", case=False, na=False), \"RA_aim\"] = \"0\" \n",
    "\n",
    "# clean\n",
    "lens_merge[\"RA_aim\"] = pd.to_numeric(\n",
    "    lens_merge[\"RA_aim\"]\n",
    "    .str.replace(\",\", \".\")\n",
    "    .str.replace(\"[^0-9. +-]\", \"\", regex=True)\n",
    "    .str.replace(\"---\", \"\")\n",
    "    .str.strip()\n",
    "    .str.replace(\" +\", \"\")\n",
    ")\n"
   ]
  },
  {
   "cell_type": "code",
   "execution_count": 87,
   "metadata": {},
   "outputs": [],
   "source": [
    "# remove Refr / IOL misreads: different pdf formatation of lens suggestions because only one lens was suggested - for toric lenses. Remove those pds readings\n",
    "lens_merge = lens_merge.loc[\n",
    "    ~lens_merge[\"filename\"].isin(\n",
    "        lens_merge.loc[lens_merge[\"refr\"].str.contains(\"°\", na=False), \"filename\"]\n",
    "    )\n",
    "]\n",
    "\n",
    "# Clean IOL column\n",
    "lens_merge[\"iol\"] = pd.to_numeric(\n",
    "    lens_merge[\"iol\"]\n",
    "    .str.replace(\",\", \".\")\n",
    "    .str.replace(\"[^0-9.-]+|-(?![0-9\\s])\", \"\", regex=True)\n",
    ")\n",
    "\n",
    "# Clean Refraction column\n",
    "lens_merge[\"refr\"] = pd.to_numeric(\n",
    "    lens_merge[\"refr\"]\n",
    "    .str.replace(\",\", \".\")\n",
    "    .str.replace(\"[^0-9.-]+|-(?![0-9\\s])\", \"\", regex=True)\n",
    ")"
   ]
  },
  {
   "cell_type": "markdown",
   "metadata": {},
   "source": [
    "Extract the a constants from the one column"
   ]
  },
  {
   "cell_type": "code",
   "execution_count": 88,
   "metadata": {},
   "outputs": [],
   "source": [
    "# in some cases, the a constante is not stated, but a (p)ACD. Remove those cases for now\n",
    "lens_merge = lens_merge.loc[~lens_merge[\"lens_a_const\"].str.contains(\"acd\", case=False, na=False)]\n",
    "\n",
    "# insert a comma after the zero in specific four-digit patterns starting with zero\n",
    "lens_merge[\"lens_a_const\"] = lens_merge[\"lens_a_const\"].str.replace(r'(?<=0)(\\d{3})', r',\\1', regex=True)\n",
    "\n",
    "# Clean column and split into three\n",
    "extracted_numbers = (\n",
    "    lens_merge[\"lens_a_const\"]\n",
    "    .str.replace(\",\", \".\")\n",
    "    .str.replace(\"A1\", \"\")\n",
    "    .str.replace(\"A2\", \"\")\n",
    "    .str.replace(\"A3\", \"\")\n",
    "    .str.replace(\"---\", \"\", regex=True)\n",
    "    .str.replace(\"[^0-9. +-]\", \"\", regex=True)\n",
    "    .str.replace(\" +\", \" \", regex=True)\n",
    "    .str.strip()\n",
    "    .str.split(\" \", expand=True)\n",
    ")\n",
    "\n",
    "# remove some misread cases that led to more then three columns and remoce that column\n",
    "extracted_numbers.loc[~extracted_numbers[3].isna()] = \"\"\n",
    "extracted_numbers = extracted_numbers.drop(3, axis=1)\n",
    "\n",
    "# rename\n",
    "extracted_numbers.columns = [\"A0\", \"A1\", \"A2\"]\n",
    "\n",
    "# transform to float\n",
    "for column in extracted_numbers.columns:\n",
    "    extracted_numbers[column] = pd.to_numeric(extracted_numbers[column], errors='coerce')\n",
    "\n",
    "# Join the extracted numbers back to the original DataFrame and drop the old column\n",
    "lens_merge = pd.concat([lens_merge, extracted_numbers], axis=1)\n",
    "lens_merge = lens_merge.drop(\"lens_a_const\", axis=1)"
   ]
  },
  {
   "cell_type": "code",
   "execution_count": 89,
   "metadata": {},
   "outputs": [],
   "source": [
    "# Remove rows when missing values in lens, \n",
    "lens_merge = lens_merge.dropna(subset=[\"lens\", \"patnr\", \"iol\", \"refr\"], how=\"any\")"
   ]
  },
  {
   "cell_type": "code",
   "execution_count": 91,
   "metadata": {},
   "outputs": [],
   "source": [
    "lens = lens_merge.rename(columns={\"iol\":\"IOL_dpt\", \"lens\":\"lens_series\"})"
   ]
  },
  {
   "cell_type": "markdown",
   "metadata": {},
   "source": [
    "---\n",
    "# 5. Merge Tables\n",
    "\n",
    "Use all surgeries and look at postoperative objective refractions (OR). OR must have been performed between 2 weeks and 1 year after surgery. If there are several, choose the first one(?).  "
   ]
  },
  {
   "cell_type": "markdown",
   "metadata": {},
   "source": [
    "### Merge surgeries and refractions\n",
    "\n",
    "for most of the surgeries, there are refraction measurements (~24k) - but maybe not in right time window"
   ]
  },
  {
   "cell_type": "code",
   "execution_count": 92,
   "metadata": {},
   "outputs": [
    {
     "data": {
      "text/plain": [
       "23931"
      ]
     },
     "execution_count": 92,
     "metadata": {},
     "output_type": "execute_result"
    }
   ],
   "source": [
    "surg_long.patnr.isin(refr_long.patnr.drop_duplicates()).sum()"
   ]
  },
  {
   "cell_type": "markdown",
   "metadata": {},
   "source": [
    "And there are 14k distinct refraction measurements, that have a fitting surgery. this difference must be because of the side"
   ]
  },
  {
   "cell_type": "code",
   "execution_count": 93,
   "metadata": {},
   "outputs": [
    {
     "data": {
      "text/plain": [
       "14204"
      ]
     },
     "execution_count": 93,
     "metadata": {},
     "output_type": "execute_result"
    }
   ],
   "source": [
    "refr_long.patnr.drop_duplicates().isin(surg_long.patnr).sum()"
   ]
  },
  {
   "cell_type": "markdown",
   "metadata": {},
   "source": [
    "merge surgery (24k) and refraction (1.2 Mio)"
   ]
  },
  {
   "cell_type": "code",
   "execution_count": 94,
   "metadata": {},
   "outputs": [],
   "source": [
    "# merge surgery and refraction\n",
    "surg_refr = surg_long.merge(\n",
    "    refr_long, \"left\", [\"patnr\", \"side\"]\n",
    ")\n",
    "\n",
    "# Calculate spheric equivalent (se)\n",
    "surg_refr[\"se\"] = surg_refr.sphere + (0.5 *surg_refr.cyl)\n",
    "\n",
    "# drop empty refraction dates\n",
    "surg_refr = surg_refr.dropna(subset=[\"refr_date\"])\n",
    "\n",
    "# calculate weeks\n",
    "surg_refr[\"weeks_since_surgery\"] = ((surg_refr['refr_date'] - surg_refr['surg_date']) / np.timedelta64(1, 'W'))\n",
    "\n",
    "# keep those, where RA between 2 and 52 weeks\n",
    "surg_refr = surg_refr.loc[surg_refr.weeks_since_surgery.between(2,52)]"
   ]
  },
  {
   "cell_type": "markdown",
   "metadata": {},
   "source": [
    "29k surgeries with RA measurments, that fit so the right postoperative time window. Thats too many\n",
    "\n",
    "### Multiple Refraction Measurements per Surgery\n",
    "there are several RA measurements in the indicated time window of 2 to 52 weeks after surgery:"
   ]
  },
  {
   "cell_type": "code",
   "execution_count": null,
   "metadata": {},
   "outputs": [],
   "source": [
    "# count of RA measurements in the indicated time window \n",
    "surg_refr.groupby([\"patnr\", \"surg_date\", \"side\"]).count()"
   ]
  },
  {
   "cell_type": "code",
   "execution_count": null,
   "metadata": {},
   "outputs": [],
   "source": [
    "surg_refr.sort_values([\"patnr\", \"surg_date\", \"refr_date\"]).tail(30)"
   ]
  },
  {
   "cell_type": "markdown",
   "metadata": {},
   "source": [
    "\n",
    "Calculate mean value of all RAs after surgery in the defined week range  - at the cost of loosing text information:"
   ]
  },
  {
   "cell_type": "code",
   "execution_count": 98,
   "metadata": {},
   "outputs": [],
   "source": [
    "# mean value of all RAs after surgery in the defined week range  - at the cost of loosing text information\n",
    "surg_refr_ = surg_refr.groupby([\"patnr\", \"surg_date\" ,\"side\"]).agg({\"sphere\":\"mean\", \"cyl\":\"mean\", \"ax\":\"mean\", \"se\":\"mean\", \"weeks_since_surgery\":[\"mean\", \"count\"]})\n",
    "surg_refr_ = surg_refr_.reset_index()\n",
    "surg_refr_.columns = surg_refr_.columns.droplevel(1)\n",
    "surg_refr_.columns = surg_refr_.columns[0:8].to_list()+[\"RA_meas_count\"]"
   ]
  },
  {
   "cell_type": "code",
   "execution_count": 100,
   "metadata": {},
   "outputs": [],
   "source": [
    "# back-merge with surgery table to get the text information back\n",
    "surg_refr_ = surg_refr_.merge(surg_long, \"left\", [\"patnr\", \"surg_date\", \"side\"])"
   ]
  },
  {
   "cell_type": "markdown",
   "metadata": {},
   "source": [
    "now its down to 10.8k rows. Apperently there were 14k surgeries without RA measurement?!\n",
    "\n",
    "Lets validate this:"
   ]
  },
  {
   "cell_type": "code",
   "execution_count": null,
   "metadata": {},
   "outputs": [],
   "source": [
    "m = surg_long.merge(surg_refr_, \"left\", [\"patnr\", \"surg_date\", \"side\"]).sort_values([\"patnr\", \"surg_date\", \"side\"])\n",
    "\n",
    "m"
   ]
  },
  {
   "cell_type": "code",
   "execution_count": null,
   "metadata": {},
   "outputs": [],
   "source": [
    "# investigate cases with \"lost\" data\n",
    "ex_patnr = 123456\n",
    "ex_side = \"L\"\n",
    "\n",
    "# surg merged on merged refraction_surgery table - here there are no RA measurements\n",
    "m.loc[(m.patnr == ex_patnr) & (m[\"side\"] == ex_side)]"
   ]
  },
  {
   "cell_type": "code",
   "execution_count": null,
   "metadata": {},
   "outputs": [],
   "source": [
    "# Yet, in the original RA table, there are measurements. BUT: the dates do not fit to the postoperative time window; they are rather just before surgery.\n",
    "refr_long.loc[(refr_long.patnr == ex_patnr) & (refr_long[\"side\"] == ex_side)]"
   ]
  },
  {
   "cell_type": "markdown",
   "metadata": {},
   "source": [
    "The reason for the loss of that many cases is, because die clinic performs surgersy on a significant portion pf patients, that are out-clinic patients, and thus, their postoperative  refractions were measured in other clinics."
   ]
  },
  {
   "cell_type": "markdown",
   "metadata": {},
   "source": [
    "### Merge IOL (IOL Master PDFs)"
   ]
  },
  {
   "cell_type": "code",
   "execution_count": 105,
   "metadata": {},
   "outputs": [
    {
     "data": {
      "text/plain": [
       "10190"
      ]
     },
     "execution_count": 105,
     "metadata": {},
     "output_type": "execute_result"
    }
   ],
   "source": [
    "iol_long.patnr.isin(surg_refr_.patnr).sum()"
   ]
  },
  {
   "cell_type": "code",
   "execution_count": null,
   "metadata": {},
   "outputs": [],
   "source": [
    "surg_refr_iol = surg_refr_.merge(iol_long, \"inner\",  [\"patnr\", \"side\"]).sort_values([\"patnr\", \"surg_date\", \"side\"])\n",
    "surg_refr_iol"
   ]
  },
  {
   "cell_type": "markdown",
   "metadata": {},
   "source": [
    "### Missing IOLs for Surgery data"
   ]
  },
  {
   "cell_type": "markdown",
   "metadata": {},
   "source": [
    "for many surgeries there are no iols.\n",
    "\n",
    "The reason may be missing pdfs, that were in another clinic system folder - possibly older IOL Master versions"
   ]
  },
  {
   "cell_type": "code",
   "execution_count": 107,
   "metadata": {},
   "outputs": [
    {
     "data": {
      "text/plain": [
       "4660"
      ]
     },
     "execution_count": 107,
     "metadata": {},
     "output_type": "execute_result"
    }
   ],
   "source": [
    "# Nr of surgeries without according IOL information: ~4600 cases. Thats a lot! Why are there no matches in all of 30k IOL measurements\n",
    "z = surg_refr_.merge(iol_long, \"left\",  [\"patnr\", \"side\"], indicator=True).sort_values([\"patnr\", \"surg_date\", \"side\"])\n",
    "z.loc[z._merge == \"left_only\", \"patnr\"].count()"
   ]
  },
  {
   "cell_type": "code",
   "execution_count": null,
   "metadata": {},
   "outputs": [],
   "source": [
    "# show these cases and investigate some cases manually\n",
    "z_ = z.loc[z._merge == \"left_only\"]\n",
    "z_"
   ]
  },
  {
   "cell_type": "code",
   "execution_count": 109,
   "metadata": {},
   "outputs": [
    {
     "data": {
      "text/html": [
       "<div>\n",
       "<style scoped>\n",
       "    .dataframe tbody tr th:only-of-type {\n",
       "        vertical-align: middle;\n",
       "    }\n",
       "\n",
       "    .dataframe tbody tr th {\n",
       "        vertical-align: top;\n",
       "    }\n",
       "\n",
       "    .dataframe thead th {\n",
       "        text-align: right;\n",
       "    }\n",
       "</style>\n",
       "<table border=\"1\" class=\"dataframe\">\n",
       "  <thead>\n",
       "    <tr style=\"text-align: right;\">\n",
       "      <th></th>\n",
       "      <th>filename</th>\n",
       "      <th>patnr</th>\n",
       "      <th>exam_date</th>\n",
       "      <th>comment</th>\n",
       "      <th>lens_cat</th>\n",
       "      <th>AL_R</th>\n",
       "      <th>VKT_R</th>\n",
       "      <th>LD_R</th>\n",
       "      <th>R_R</th>\n",
       "      <th>AL_SD_R</th>\n",
       "      <th>...</th>\n",
       "      <th>LD_SD_L</th>\n",
       "      <th>R1_L</th>\n",
       "      <th>R2_L</th>\n",
       "      <th>DeltaD_L</th>\n",
       "      <th>R1_at_L</th>\n",
       "      <th>R2_at_L</th>\n",
       "      <th>DeltaD_at_L</th>\n",
       "      <th>WZW_L</th>\n",
       "      <th>RA_aim_L</th>\n",
       "      <th>Refr_aim_deviant</th>\n",
       "    </tr>\n",
       "  </thead>\n",
       "  <tbody>\n",
       "  </tbody>\n",
       "</table>\n",
       "<p>0 rows × 36 columns</p>\n",
       "</div>"
      ],
      "text/plain": [
       "Empty DataFrame\n",
       "Columns: [filename, patnr, exam_date, comment, lens_cat, AL_R, VKT_R, LD_R, R_R, AL_SD_R, VKT_SD_R, LD_SD_R, R1_R, R2_R, DeltaD_R, R1_at_R, R2_at_R, DeltaD_at_R, WZW_R, RA_aim_R, AL_L, VKT_L, LD_L, R_L, AL_SD_L, VKT_SD_L, LD_SD_L, R1_L, R2_L, DeltaD_L, R1_at_L, R2_at_L, DeltaD_at_L, WZW_L, RA_aim_L, Refr_aim_deviant]\n",
       "Index: []\n",
       "\n",
       "[0 rows x 36 columns]"
      ]
     },
     "execution_count": 109,
     "metadata": {},
     "output_type": "execute_result"
    }
   ],
   "source": [
    "iol_merge.loc[iol_merge.patnr.isin([100730,1134585,100801,1134585])]"
   ]
  },
  {
   "cell_type": "markdown",
   "metadata": {},
   "source": [
    "### Multiple IOLs per Surgery"
   ]
  },
  {
   "cell_type": "code",
   "execution_count": null,
   "metadata": {},
   "outputs": [],
   "source": [
    "hh = surg_refr_iol.groupby([\"patnr\", \"side\"]).count().head(30)\n",
    "hh"
   ]
  },
  {
   "cell_type": "markdown",
   "metadata": {},
   "source": [
    "# 6. Minimal Vial Dataset"
   ]
  },
  {
   "cell_type": "markdown",
   "metadata": {},
   "source": [
    "there are multiple PDFs with IOL Master information for many patients. If there are multiple, they differ on whether they have a deviant refraction error or not (some patient do not want to have their refraction error corrected) and on weather the lens was calculated for a toric or monofocal lens. However, it is not well documented, what choice the surgeon ended up with. From the surgery information, I do know, if the lens is toric or not. But i dont know the refraction error aim.\n",
    "\n",
    "For now, I will remove those surgeries, were a deviant-from-0 refraction error calculation was performed.\n",
    "\n",
    "Also, the pdfs do contain information about multiple lens options and what refraction errror they would produce. Becuase all lenses only exist in 0.5dpt steps, the aimed refraction error will never be zero. instead the surgeon will likely go for one close to zero (or a deviant refraction error like -2) and chose the lens, that will lead to a slight negative refraction error, as the negative error is more comformtable for patients than a positive one. Also, the surgeons experience is important, as some brands may tend to be more or less strong (just like as clothes size differ by brand, I imagine). To know the real aimed redracrion error, I would need to scrape additional information from the pdfs - this will take much time and will be postponed. Instead I am just assuming an refracion error aim of zero. "
   ]
  },
  {
   "cell_type": "markdown",
   "metadata": {},
   "source": [
    "### Remove Non-Zero Refraction Aim Cases\n",
    "thats the cases for ~ 350 pdf files or cases. deleting all pdfs of this patn-side combination, it will remove ~700 IOL PDFs"
   ]
  },
  {
   "cell_type": "code",
   "execution_count": null,
   "metadata": {},
   "outputs": [],
   "source": [
    "# find cases where there is deviant refraction aim\n",
    "dev_ref = surg_refr_iol[surg_refr_iol[\"Refr_aim_deviant\"] == True][[\"patnr\", \"surg_date\"]]\n",
    "dev_ref[[\"patnr\", \"surg_date\"]]"
   ]
  },
  {
   "cell_type": "code",
   "execution_count": null,
   "metadata": {},
   "outputs": [],
   "source": [
    "# merge to delete the whole patnr-side (or patnr-surg_date) combo\n",
    "surg_refr_iol_ = surg_refr_iol.merge(dev_ref, \"left\", [\"patnr\", \"surg_date\"], indicator=True)\n",
    "surg_refr_iol_ = surg_refr_iol_.loc[surg_refr_iol_._merge == \"left_only\"].drop([\"_merge\"], axis=1)\n",
    "surg_refr_iol_"
   ]
  },
  {
   "cell_type": "code",
   "execution_count": 113,
   "metadata": {},
   "outputs": [],
   "source": [
    "# test if there still deviant-refraction cases in here: no, it worked. \n",
    "surg_refr_iol_[surg_refr_iol_[\"Refr_aim_deviant\"] == True][[\"patnr\", \"surg_date\"]]\n",
    "\n",
    "# remove the column and use real df name\n",
    "surg_refr_iol = surg_refr_iol_.drop([\"Refr_aim_deviant\"], axis=1)"
   ]
  },
  {
   "cell_type": "markdown",
   "metadata": {},
   "source": [
    "### Find Right IOL PDF - Toric or Monofocal"
   ]
  },
  {
   "cell_type": "code",
   "execution_count": 114,
   "metadata": {},
   "outputs": [],
   "source": [
    "# define new column, based on surgery information, if lens is monofocal or toric - similiar to the values in \"lens_cat\" in the biometry information\n",
    "surg_refr_iol[\"lens_cat_surg\"] = \"monofokal\"\n",
    "surg_refr_iol.loc[surg_refr_iol[\"torisch\"] == True, \"lens_cat_surg\"] = \"torisch\""
   ]
  },
  {
   "cell_type": "code",
   "execution_count": 115,
   "metadata": {},
   "outputs": [],
   "source": [
    "# now, only keep those cases, where surgical and biometry cases match\n",
    "surg_refr_iol = surg_refr_iol.loc[surg_refr_iol[\"lens_cat_surg\"] == surg_refr_iol[\"lens_cat\"]]"
   ]
  },
  {
   "cell_type": "markdown",
   "metadata": {},
   "source": [
    "there are still cases left, with more than one pdf per surgery instance. It appears to stem from different time points. The values are quiet comparable - so I will take the mean value. \n",
    "\n",
    "First lets check if the measurements precede the surgery"
   ]
  },
  {
   "cell_type": "code",
   "execution_count": 117,
   "metadata": {},
   "outputs": [],
   "source": [
    "surg_refr_iol[\"weeks_before_surgery\"] = ((surg_refr_iol['surg_date'] - surg_refr_iol['exam_date']) / np.timedelta64(1, 'W'))\n",
    " "
   ]
  },
  {
   "cell_type": "code",
   "execution_count": null,
   "metadata": {},
   "outputs": [],
   "source": [
    "# yes, there are some cases, where exam_date > surg_date (n=118) - remove those\n",
    "surg_refr_iol = surg_refr_iol.loc[surg_refr_iol.weeks_before_surgery >= 0]\n",
    "surg_refr_iol"
   ]
  },
  {
   "cell_type": "code",
   "execution_count": null,
   "metadata": {},
   "outputs": [],
   "source": [
    "# find nr of multiple biometry PDFs per surgery\n",
    "surg_refr_iol.groupby([\"patnr\", \"side\"]).count()"
   ]
  },
  {
   "cell_type": "code",
   "execution_count": 120,
   "metadata": {},
   "outputs": [],
   "source": [
    "# Now just take the mean value of the remaining multiple measures\n",
    "col_obj = surg_refr_iol.select_dtypes(\"object\").columns.to_list()   # str - categories\n",
    "col_num = surg_refr_iol.select_dtypes(include=np.number).columns.to_list()[1:]  # numeric coumns, minus patnr\n",
    "col_id = [\"patnr\", \"surg_date\"] # id categories\n",
    "\n",
    "# do seperate aggregations of object and numeric columns and concat afterwards\n",
    "surg_refr_iol_ = pd.concat(\n",
    "    [\n",
    "        surg_refr_iol[col_id + col_obj].groupby(col_id).first().reset_index(),\n",
    "        surg_refr_iol[col_id + col_num].groupby(col_id).mean().reset_index().drop(col_id, axis=1),\n",
    "    ],\n",
    "    axis=1,\n",
    ")"
   ]
  },
  {
   "cell_type": "code",
   "execution_count": 121,
   "metadata": {},
   "outputs": [
    {
     "data": {
      "text/plain": [
       "0"
      ]
     },
     "execution_count": 121,
     "metadata": {},
     "output_type": "execute_result"
    }
   ],
   "source": [
    "# Quick validation: it works\n",
    "surg_refr_iol_.duplicated([\"patnr\",\"side\"]).sum()"
   ]
  },
  {
   "cell_type": "markdown",
   "metadata": {},
   "source": [
    "### Merge IOL Lens Information\n",
    "\n",
    "for each surgery, find the implanted lens in the list of lens suggestions by the IOL Master (PDF file), to add information about aimed refraction and a constants.\n",
    "\n",
    "Joining on the lens is error-prone, because it is written differently in both tables. First have to normalize the names"
   ]
  },
  {
   "cell_type": "code",
   "execution_count": 122,
   "metadata": {},
   "outputs": [
    {
     "data": {
      "text/plain": [
       "(5608, 34)"
      ]
     },
     "execution_count": 122,
     "metadata": {},
     "output_type": "execute_result"
    }
   ],
   "source": [
    "surg_refr_iol_.shape"
   ]
  },
  {
   "cell_type": "code",
   "execution_count": 123,
   "metadata": {},
   "outputs": [
    {
     "data": {
      "text/html": [
       "<div>\n",
       "<style scoped>\n",
       "    .dataframe tbody tr th:only-of-type {\n",
       "        vertical-align: middle;\n",
       "    }\n",
       "\n",
       "    .dataframe tbody tr th {\n",
       "        vertical-align: top;\n",
       "    }\n",
       "\n",
       "    .dataframe thead th {\n",
       "        text-align: right;\n",
       "    }\n",
       "</style>\n",
       "<table border=\"1\" class=\"dataframe\">\n",
       "  <thead>\n",
       "    <tr style=\"text-align: right;\">\n",
       "      <th></th>\n",
       "      <th>lens_series</th>\n",
       "      <th>count</th>\n",
       "    </tr>\n",
       "  </thead>\n",
       "  <tbody>\n",
       "    <tr>\n",
       "      <th>0</th>\n",
       "      <td>Domilens 677 ABY</td>\n",
       "      <td>1417</td>\n",
       "    </tr>\n",
       "    <tr>\n",
       "      <th>1</th>\n",
       "      <td>Domilens 677 ADY</td>\n",
       "      <td>874</td>\n",
       "    </tr>\n",
       "    <tr>\n",
       "      <th>2</th>\n",
       "      <td>1stQ B1AWY0</td>\n",
       "      <td>718</td>\n",
       "    </tr>\n",
       "    <tr>\n",
       "      <th>3</th>\n",
       "      <td>MBI SAL 302A</td>\n",
       "      <td>547</td>\n",
       "    </tr>\n",
       "    <tr>\n",
       "      <th>4</th>\n",
       "      <td>1stQ 690 ABY</td>\n",
       "      <td>400</td>\n",
       "    </tr>\n",
       "    <tr>\n",
       "      <th>5</th>\n",
       "      <td>MBI SAL302A</td>\n",
       "      <td>277</td>\n",
       "    </tr>\n",
       "    <tr>\n",
       "      <th>6</th>\n",
       "      <td>Zeiss AT Torbi</td>\n",
       "      <td>149</td>\n",
       "    </tr>\n",
       "    <tr>\n",
       "      <th>7</th>\n",
       "      <td>Zeiss AT TORBI 709M</td>\n",
       "      <td>95</td>\n",
       "    </tr>\n",
       "    <tr>\n",
       "      <th>8</th>\n",
       "      <td>Zeiss AT Torbi 709 M</td>\n",
       "      <td>94</td>\n",
       "    </tr>\n",
       "    <tr>\n",
       "      <th>9</th>\n",
       "      <td>Domilens Nexload-System SZ1</td>\n",
       "      <td>89</td>\n",
       "    </tr>\n",
       "    <tr>\n",
       "      <th>10</th>\n",
       "      <td>Zeiss CT ASPHINA 509MP</td>\n",
       "      <td>79</td>\n",
       "    </tr>\n",
       "    <tr>\n",
       "      <th>11</th>\n",
       "      <td>Bausch &amp; Lomb Envista</td>\n",
       "      <td>77</td>\n",
       "    </tr>\n",
       "    <tr>\n",
       "      <th>12</th>\n",
       "      <td>Domilens AS66-Y</td>\n",
       "      <td>64</td>\n",
       "    </tr>\n",
       "    <tr>\n",
       "      <th>13</th>\n",
       "      <td>Alcon SN6AT</td>\n",
       "      <td>54</td>\n",
       "    </tr>\n",
       "    <tr>\n",
       "      <th>14</th>\n",
       "      <td>Zeiss AT Torbi 719 MP</td>\n",
       "      <td>48</td>\n",
       "    </tr>\n",
       "    <tr>\n",
       "      <th>15</th>\n",
       "      <td>Alcon Clareon CNA0T0</td>\n",
       "      <td>47</td>\n",
       "    </tr>\n",
       "    <tr>\n",
       "      <th>16</th>\n",
       "      <td>Alcon SN60WF</td>\n",
       "      <td>43</td>\n",
       "    </tr>\n",
       "    <tr>\n",
       "      <th>17</th>\n",
       "      <td>CNA0T0 Clareon Alcon</td>\n",
       "      <td>29</td>\n",
       "    </tr>\n",
       "    <tr>\n",
       "      <th>18</th>\n",
       "      <td>BunnyLens AF Easy</td>\n",
       "      <td>27</td>\n",
       "    </tr>\n",
       "    <tr>\n",
       "      <th>19</th>\n",
       "      <td>Oculentis LS-313 MF15</td>\n",
       "      <td>25</td>\n",
       "    </tr>\n",
       "  </tbody>\n",
       "</table>\n",
       "</div>"
      ],
      "text/plain": [
       "                    lens_series  count\n",
       "0              Domilens 677 ABY   1417\n",
       "1              Domilens 677 ADY    874\n",
       "2                   1stQ B1AWY0    718\n",
       "3                  MBI SAL 302A    547\n",
       "4                  1stQ 690 ABY    400\n",
       "5                   MBI SAL302A    277\n",
       "6                Zeiss AT Torbi    149\n",
       "7           Zeiss AT TORBI 709M     95\n",
       "8          Zeiss AT Torbi 709 M     94\n",
       "9   Domilens Nexload-System SZ1     89\n",
       "10       Zeiss CT ASPHINA 509MP     79\n",
       "11        Bausch & Lomb Envista     77\n",
       "12              Domilens AS66-Y     64\n",
       "13                  Alcon SN6AT     54\n",
       "14        Zeiss AT Torbi 719 MP     48\n",
       "15         Alcon Clareon CNA0T0     47\n",
       "16                 Alcon SN60WF     43\n",
       "17         CNA0T0 Clareon Alcon     29\n",
       "18            BunnyLens AF Easy     27\n",
       "19        Oculentis LS-313 MF15     25"
      ]
     },
     "execution_count": 123,
     "metadata": {},
     "output_type": "execute_result"
    }
   ],
   "source": [
    "lens_types_from_surg = surg_refr_iol_[\"lens_series\"].value_counts().reset_index()\n",
    "# lens_types_from_surg.to_csv(\"data/lens_types_from_surg.csv\", index=False)\n",
    "lens_types_from_surg.head(20)"
   ]
  },
  {
   "cell_type": "code",
   "execution_count": 124,
   "metadata": {},
   "outputs": [
    {
     "data": {
      "text/html": [
       "<div>\n",
       "<style scoped>\n",
       "    .dataframe tbody tr th:only-of-type {\n",
       "        vertical-align: middle;\n",
       "    }\n",
       "\n",
       "    .dataframe tbody tr th {\n",
       "        vertical-align: top;\n",
       "    }\n",
       "\n",
       "    .dataframe thead th {\n",
       "        text-align: right;\n",
       "    }\n",
       "</style>\n",
       "<table border=\"1\" class=\"dataframe\">\n",
       "  <thead>\n",
       "    <tr style=\"text-align: right;\">\n",
       "      <th></th>\n",
       "      <th>lens_series</th>\n",
       "      <th>count</th>\n",
       "    </tr>\n",
       "  </thead>\n",
       "  <tbody>\n",
       "    <tr>\n",
       "      <th>0</th>\n",
       "      <td>Alcon Clareon</td>\n",
       "      <td>80040</td>\n",
       "    </tr>\n",
       "    <tr>\n",
       "      <th>1</th>\n",
       "      <td>Alcon AcrySof MA60AC/MN60AC</td>\n",
       "      <td>75485</td>\n",
       "    </tr>\n",
       "    <tr>\n",
       "      <th>2</th>\n",
       "      <td>Asphina 509 M-Acri Smart 36A</td>\n",
       "      <td>65615</td>\n",
       "    </tr>\n",
       "    <tr>\n",
       "      <th>3</th>\n",
       "      <td>Teleon LENTIS L-313</td>\n",
       "      <td>59150</td>\n",
       "    </tr>\n",
       "    <tr>\n",
       "      <th>4</th>\n",
       "      <td>Alcon SN 60 WF</td>\n",
       "      <td>58320</td>\n",
       "    </tr>\n",
       "    <tr>\n",
       "      <th>5</th>\n",
       "      <td>Zeiss CT Lucia 621 P/PY</td>\n",
       "      <td>58068</td>\n",
       "    </tr>\n",
       "    <tr>\n",
       "      <th>6</th>\n",
       "      <td>MBI SAL302A</td>\n",
       "      <td>58030</td>\n",
       "    </tr>\n",
       "    <tr>\n",
       "      <th>7</th>\n",
       "      <td>Domilens BiFlex 677 AD neu</td>\n",
       "      <td>53710</td>\n",
       "    </tr>\n",
       "    <tr>\n",
       "      <th>8</th>\n",
       "      <td>Alcon AcrySof MA60AC/MN6 OAC</td>\n",
       "      <td>43005</td>\n",
       "    </tr>\n",
       "    <tr>\n",
       "      <th>9</th>\n",
       "      <td>Domilens NEXLOAD-System $Z1</td>\n",
       "      <td>37573</td>\n",
       "    </tr>\n",
       "    <tr>\n",
       "      <th>10</th>\n",
       "      <td>Zeiss Asphina 509 M-Acri Sm 36A art</td>\n",
       "      <td>25630</td>\n",
       "    </tr>\n",
       "    <tr>\n",
       "      <th>11</th>\n",
       "      <td>Bausch&amp;Lomb enVista</td>\n",
       "      <td>25470</td>\n",
       "    </tr>\n",
       "    <tr>\n",
       "      <th>12</th>\n",
       "      <td>Domilens/MBI Orizon/SAL302 A</td>\n",
       "      <td>25470</td>\n",
       "    </tr>\n",
       "    <tr>\n",
       "      <th>13</th>\n",
       "      <td>Domilens NEXLOAD-System SZ1</td>\n",
       "      <td>23792</td>\n",
       "    </tr>\n",
       "    <tr>\n",
       "      <th>14</th>\n",
       "      <td>Sm Zeiss Asphina 509 M-Acri art 36A</td>\n",
       "      <td>23355</td>\n",
       "    </tr>\n",
       "    <tr>\n",
       "      <th>15</th>\n",
       "      <td>Femtis FB-313</td>\n",
       "      <td>23075</td>\n",
       "    </tr>\n",
       "    <tr>\n",
       "      <th>16</th>\n",
       "      <td>Teleon Femtis FB-313</td>\n",
       "      <td>18910</td>\n",
       "    </tr>\n",
       "    <tr>\n",
       "      <th>17</th>\n",
       "      <td>RayOne hydroph asheric</td>\n",
       "      <td>16926</td>\n",
       "    </tr>\n",
       "    <tr>\n",
       "      <th>18</th>\n",
       "      <td>1stQ1stQZ</td>\n",
       "      <td>14555</td>\n",
       "    </tr>\n",
       "    <tr>\n",
       "      <th>19</th>\n",
       "      <td>Asphina 509 M-Acri Smart 364</td>\n",
       "      <td>14530</td>\n",
       "    </tr>\n",
       "  </tbody>\n",
       "</table>\n",
       "</div>"
      ],
      "text/plain": [
       "                            lens_series  count\n",
       "0                         Alcon Clareon  80040\n",
       "1           Alcon AcrySof MA60AC/MN60AC  75485\n",
       "2          Asphina 509 M-Acri Smart 36A  65615\n",
       "3                   Teleon LENTIS L-313  59150\n",
       "4                        Alcon SN 60 WF  58320\n",
       "5               Zeiss CT Lucia 621 P/PY  58068\n",
       "6                           MBI SAL302A  58030\n",
       "7            Domilens BiFlex 677 AD neu  53710\n",
       "8          Alcon AcrySof MA60AC/MN6 OAC  43005\n",
       "9           Domilens NEXLOAD-System $Z1  37573\n",
       "10  Zeiss Asphina 509 M-Acri Sm 36A art  25630\n",
       "11                  Bausch&Lomb enVista  25470\n",
       "12         Domilens/MBI Orizon/SAL302 A  25470\n",
       "13          Domilens NEXLOAD-System SZ1  23792\n",
       "14  Sm Zeiss Asphina 509 M-Acri art 36A  23355\n",
       "15                        Femtis FB-313  23075\n",
       "16                 Teleon Femtis FB-313  18910\n",
       "17               RayOne hydroph asheric  16926\n",
       "18                            1stQ1stQZ  14555\n",
       "19         Asphina 509 M-Acri Smart 364  14530"
      ]
     },
     "execution_count": 124,
     "metadata": {},
     "output_type": "execute_result"
    }
   ],
   "source": [
    "lens_types_from_IOLMaster = lens[\"lens_series\"].value_counts().reset_index()\n",
    "#lens_types_from_IOLMaster.to_csv(\"data/lens_types_from_IOLMaster.csv\", index=False)\n",
    "lens_types_from_IOLMaster.head(20)"
   ]
  },
  {
   "cell_type": "code",
   "execution_count": 125,
   "metadata": {},
   "outputs": [],
   "source": [
    "# manual cleaning, based on most common used lenses\n",
    "string = \"677\"\n",
    "new_name = \"Domilens 677\"\n",
    "surg_refr_iol_.loc[surg_refr_iol_[\"lens_series\"].str.contains(string, case=False), \"lens_series\"] = new_name\n",
    "lens.loc[lens[\"lens_series\"].str.contains(string, case=False), \"lens_series\"] = new_name\n",
    "\n",
    "string = \"stQ\"\n",
    "new_name = \"1stQ\"\n",
    "surg_refr_iol_.loc[surg_refr_iol_[\"lens_series\"].str.contains(string, case=False), \"lens_series\"] = new_name\n",
    "lens.loc[lens[\"lens_series\"].str.contains(string, case=False), \"lens_series\"] = new_name\n",
    "\n",
    "string = \"mbi\"\n",
    "new_name = \"MBI SAL 302A\"\n",
    "surg_refr_iol_.loc[surg_refr_iol_[\"lens_series\"].str.contains(string, case=False), \"lens_series\"] = new_name\n",
    "lens.loc[lens[\"lens_series\"].str.contains(string, case=False), \"lens_series\"] = new_name\n",
    "\n",
    "string = \"torbi\"\n",
    "new_name = \"Zeiss AT Torbi\"\n",
    "surg_refr_iol_.loc[surg_refr_iol_[\"lens_series\"].str.contains(string, case=False), \"lens_series\"] = new_name\n",
    "lens.loc[lens[\"lens_series\"].str.contains(string, case=False), \"lens_series\"] = new_name\n",
    "\n",
    "string = \"exl\"\n",
    "new_name = \"Domilens Nexload-System SZ1\"\n",
    "surg_refr_iol_.loc[surg_refr_iol_[\"lens_series\"].str.contains(string, case=False), \"lens_series\"] = new_name\n",
    "lens.loc[lens[\"lens_series\"].str.contains(string, case=False), \"lens_series\"] = new_name\n",
    "\n",
    "string = \"621\"\n",
    "new_name = \"Zeiss CT Lucia 621 P/PY\"\n",
    "surg_refr_iol_.loc[surg_refr_iol_[\"lens_series\"].str.contains(string, case=False), \"lens_series\"] = new_name\n",
    "lens.loc[lens[\"lens_series\"].str.contains(string, case=False), \"lens_series\"] = new_name\n",
    "\n",
    "string = \"asphi\"\n",
    "new_name = \"Zeiss Asphina\"\n",
    "surg_refr_iol_.loc[surg_refr_iol_[\"lens_series\"].str.contains(string, case=False), \"lens_series\"] = new_name\n",
    "lens.loc[lens[\"lens_series\"].str.contains(string, case=False), \"lens_series\"] = new_name\n",
    "\n",
    "string = \"omb\"\n",
    "new_name = \"Bausch & Lomb Envista\"\n",
    "surg_refr_iol_.loc[surg_refr_iol_[\"lens_series\"].str.contains(string, case=False), \"lens_series\"] = new_name\n",
    "lens.loc[lens[\"lens_series\"].str.contains(string, case=False), \"lens_series\"] = new_name\n",
    "\n",
    "string = \"66\"\n",
    "new_name = \"Domilens AS66-Y\"\n",
    "surg_refr_iol_.loc[surg_refr_iol_[\"lens_series\"].str.contains(string, case=False), \"lens_series\"] = new_name\n",
    "lens.loc[lens[\"lens_series\"].str.contains(string, case=False), \"lens_series\"] = new_name\n",
    "\n",
    "string = \"SN6AT\"\n",
    "new_name = \"Alcon SN6AT\"\n",
    "surg_refr_iol_.loc[surg_refr_iol_[\"lens_series\"].str.contains(string, case=False), \"lens_series\"] = new_name\n",
    "lens.loc[lens[\"lens_series\"].str.contains(string, case=False), \"lens_series\"] = new_name\n",
    "\n",
    "string = \"Clareon\"\n",
    "new_name = \"Alcon Clareon\"\n",
    "surg_refr_iol_.loc[surg_refr_iol_[\"lens_series\"].str.contains(string, case=False), \"lens_series\"] = new_name\n",
    "lens.loc[lens[\"lens_series\"].str.contains(string, case=False), \"lens_series\"] = new_name\n",
    "\n",
    "string = \"313\"\n",
    "new_name = \"Teleon Oculentis 313\"\n",
    "surg_refr_iol_.loc[surg_refr_iol_[\"lens_series\"].str.contains(string, case=False), \"lens_series\"] = new_name\n",
    "lens.loc[lens[\"lens_series\"].str.contains(string, case=False), \"lens_series\"] = new_name\n",
    "\n",
    "\n",
    "string = \"Alcon SN60WF\"\n",
    "new_name = \"Alcon SN 60 WF\"\n",
    "surg_refr_iol_.loc[surg_refr_iol_[\"lens_series\"].str.contains(string, case=False), \"lens_series\"] = new_name\n",
    "lens.loc[lens[\"lens_series\"].str.contains(string, case=False), \"lens_series\"] = new_name\n"
   ]
  },
  {
   "cell_type": "code",
   "execution_count": 126,
   "metadata": {},
   "outputs": [
    {
     "data": {
      "text/html": [
       "<div>\n",
       "<style scoped>\n",
       "    .dataframe tbody tr th:only-of-type {\n",
       "        vertical-align: middle;\n",
       "    }\n",
       "\n",
       "    .dataframe tbody tr th {\n",
       "        vertical-align: top;\n",
       "    }\n",
       "\n",
       "    .dataframe thead th {\n",
       "        text-align: right;\n",
       "    }\n",
       "</style>\n",
       "<table border=\"1\" class=\"dataframe\">\n",
       "  <thead>\n",
       "    <tr style=\"text-align: right;\">\n",
       "      <th></th>\n",
       "      <th>lens_series</th>\n",
       "      <th>count</th>\n",
       "    </tr>\n",
       "  </thead>\n",
       "  <tbody>\n",
       "    <tr>\n",
       "      <th>16</th>\n",
       "      <td>Alcon SN60WF</td>\n",
       "      <td>43</td>\n",
       "    </tr>\n",
       "  </tbody>\n",
       "</table>\n",
       "</div>"
      ],
      "text/plain": [
       "     lens_series  count\n",
       "16  Alcon SN60WF     43"
      ]
     },
     "execution_count": 126,
     "metadata": {},
     "output_type": "execute_result"
    }
   ],
   "source": [
    "string = \"Alcon SN60WF\" #SN60WF\n",
    "lens_types_from_surg.loc[lens_types_from_surg[\"lens_series\"].str.contains(string, case=False)]"
   ]
  },
  {
   "cell_type": "code",
   "execution_count": 127,
   "metadata": {},
   "outputs": [
    {
     "data": {
      "text/html": [
       "<div>\n",
       "<style scoped>\n",
       "    .dataframe tbody tr th:only-of-type {\n",
       "        vertical-align: middle;\n",
       "    }\n",
       "\n",
       "    .dataframe tbody tr th {\n",
       "        vertical-align: top;\n",
       "    }\n",
       "\n",
       "    .dataframe thead th {\n",
       "        text-align: right;\n",
       "    }\n",
       "</style>\n",
       "<table border=\"1\" class=\"dataframe\">\n",
       "  <thead>\n",
       "    <tr style=\"text-align: right;\">\n",
       "      <th></th>\n",
       "      <th>lens_series</th>\n",
       "      <th>count</th>\n",
       "    </tr>\n",
       "  </thead>\n",
       "  <tbody>\n",
       "  </tbody>\n",
       "</table>\n",
       "</div>"
      ],
      "text/plain": [
       "Empty DataFrame\n",
       "Columns: [lens_series, count]\n",
       "Index: []"
      ]
     },
     "execution_count": 127,
     "metadata": {},
     "output_type": "execute_result"
    }
   ],
   "source": [
    "lens_types_from_IOLMaster.loc[lens_types_from_IOLMaster[\"lens_series\"].str.contains(string, case=False)]"
   ]
  },
  {
   "cell_type": "code",
   "execution_count": null,
   "metadata": {},
   "outputs": [],
   "source": [
    "x= lens_merge.loc[lens_merge.lens.str.contains(\"Domilens/MBI Orizon/SAL302\", case=False)]\n",
    "x"
   ]
  },
  {
   "cell_type": "code",
   "execution_count": 129,
   "metadata": {},
   "outputs": [],
   "source": [
    "# from thefuzz import process, fuzz\n",
    "\n",
    "# unique_surg = surg_refr_iol_['lens_series'].unique()\n",
    "# unique_iol = lens['lens_series'].unique()\n",
    "\n",
    "# # Create a match function that returns the best match with a score\n",
    "# def best_match(item, choices, scorer):\n",
    "#     return process.extractOne(item, choices)\n",
    "\n",
    "# # Map each unique lens type in surg_lens to the best match in iol_master\n",
    "# reference_data = []\n",
    "# for x in unique_surg:\n",
    "#     match, score = best_match(x, unique_iol, fuzz.token_sort_ratio)  # change scorer here if needed\n",
    "#     if score > 70:  # You can adjust the threshold based on your needs\n",
    "#         reference_data.append({'surg_lens_type': x, 'iol_lens_type': match})\n",
    "\n",
    "# # Convert the list to a DataFrame\n",
    "# reference_table = pd.DataFrame(reference_data)\n",
    "\n",
    "# reference_table"
   ]
  },
  {
   "cell_type": "code",
   "execution_count": null,
   "metadata": {},
   "outputs": [],
   "source": [
    "surg_refr_iol_lens = surg_refr_iol_.merge(lens, \"left\", [\"patnr\", \"side\", \"RA_aim\", \"lens_cat\", \"lens_series\", \"IOL_dpt\"], indicator=True)\n",
    "surg_refr_iol_lens"
   ]
  },
  {
   "cell_type": "code",
   "execution_count": 131,
   "metadata": {},
   "outputs": [],
   "source": [
    "# There are a few duplicates - drop those, as the a constants should be the same\n",
    "surg_refr_iol_lens.duplicated(subset=[\"patnr\", \"surg_date\"]).sum()\n",
    "surg_refr_iol_lens = surg_refr_iol_lens.drop_duplicates(subset=[\"patnr\", \"surg_date\"])"
   ]
  },
  {
   "cell_type": "markdown",
   "metadata": {},
   "source": [
    "there are still about half of the cases without a fitting lens -\n",
    "\n",
    "?maybe the surgeon decided for another lens anyway?\n",
    "\n",
    "that is a pitty, but I cant change it now."
   ]
  },
  {
   "cell_type": "code",
   "execution_count": 132,
   "metadata": {},
   "outputs": [],
   "source": [
    "# there are still about half of the cases without a fitting lens -> maybe the surgeon decided for another lens anyway?\n",
    "# that is a pitty, but I cant change it now.\n",
    "zz = surg_refr_iol_lens.loc[surg_refr_iol_lens._merge == \"left_only\"]"
   ]
  },
  {
   "cell_type": "code",
   "execution_count": null,
   "metadata": {},
   "outputs": [],
   "source": [
    "zz.sample(30)"
   ]
  },
  {
   "cell_type": "code",
   "execution_count": null,
   "metadata": {},
   "outputs": [],
   "source": [
    "x = lens_v17.loc[(lens_v17.patnr == 1105277) & (lens_v17.side == \"R\")]\n",
    "x"
   ]
  },
  {
   "cell_type": "code",
   "execution_count": null,
   "metadata": {},
   "outputs": [],
   "source": [
    "x = lens_v15.loc[(lens_v15.filename == \"data\\IOL\\\\v1.5\\\\076df965-44dd-449d-abc9-77e11b569afe.pdf\") & (lens_v15.side == \"R\")]\n",
    "x"
   ]
  },
  {
   "cell_type": "code",
   "execution_count": 136,
   "metadata": {},
   "outputs": [],
   "source": [
    "# drop unneeded columns\n",
    "surg_refr_iol_lens = surg_refr_iol_lens.drop([\"_merge\", \"v\", \"exam_date\", \"filename\"], axis=1)"
   ]
  },
  {
   "cell_type": "code",
   "execution_count": null,
   "metadata": {},
   "outputs": [],
   "source": [
    "surg_refr_iol_lens"
   ]
  },
  {
   "cell_type": "markdown",
   "metadata": {},
   "source": [
    "### Add patient data"
   ]
  },
  {
   "cell_type": "code",
   "execution_count": 138,
   "metadata": {},
   "outputs": [],
   "source": [
    "data = surg_refr_iol_lens.merge(patdat, \"left\", \"patnr\")"
   ]
  },
  {
   "cell_type": "markdown",
   "metadata": {},
   "source": [
    "### Exclusion of non-adults"
   ]
  },
  {
   "cell_type": "code",
   "execution_count": 139,
   "metadata": {},
   "outputs": [],
   "source": [
    "# Calculate Age\n",
    "data[\"age\"] = data.apply(\n",
    "    lambda row: calculate_age(row[\"birthdate\"], row[\"surg_date\"]), axis=1\n",
    ")"
   ]
  },
  {
   "cell_type": "code",
   "execution_count": 140,
   "metadata": {},
   "outputs": [
    {
     "data": {
      "text/plain": [
       "False"
      ]
     },
     "execution_count": 140,
     "metadata": {},
     "output_type": "execute_result"
    }
   ],
   "source": [
    "# Any patients younger then 18 at time of surgery? - no.\n",
    "(data.age < 18).any()"
   ]
  },
  {
   "cell_type": "markdown",
   "metadata": {},
   "source": [
    "### Further Exclusion\n",
    "\n",
    "- remove 2 cases of weirdly high IOL_dpt - probably clinic tipos\n",
    "- remove 1 case of AL - misread"
   ]
  },
  {
   "cell_type": "code",
   "execution_count": 141,
   "metadata": {},
   "outputs": [],
   "source": [
    "data = data.loc[data[\"IOL_dpt\"] < 50]"
   ]
  },
  {
   "cell_type": "code",
   "execution_count": 142,
   "metadata": {},
   "outputs": [],
   "source": [
    "# misread in AL\n",
    "data = data.loc[~((data.patnr == 1109111) & (data.side == \"L\"))]"
   ]
  },
  {
   "cell_type": "markdown",
   "metadata": {},
   "source": [
    "# 7. Some Statistics"
   ]
  },
  {
   "cell_type": "markdown",
   "metadata": {},
   "source": [
    "#### IOL_dpt"
   ]
  },
  {
   "cell_type": "code",
   "execution_count": 143,
   "metadata": {},
   "outputs": [
    {
     "data": {
      "text/plain": [
       "count    5589.000000\n",
       "mean       21.159000\n",
       "std         3.465632\n",
       "min        -2.500000\n",
       "25%        19.500000\n",
       "50%        21.500000\n",
       "75%        23.000000\n",
       "max        34.000000\n",
       "Name: IOL_dpt, dtype: float64"
      ]
     },
     "execution_count": 143,
     "metadata": {},
     "output_type": "execute_result"
    }
   ],
   "source": [
    "data.IOL_dpt.describe()"
   ]
  },
  {
   "cell_type": "code",
   "execution_count": 144,
   "metadata": {},
   "outputs": [
    {
     "data": {
      "text/plain": [
       "<Axes: >"
      ]
     },
     "execution_count": 144,
     "metadata": {},
     "output_type": "execute_result"
    },
    {
     "data": {
      "image/png": "[encoded data removed]",
      "text/plain": [
       "<Figure size 640x480 with 1 Axes>"
      ]
     },
     "metadata": {},
     "output_type": "display_data"
    }
   ],
   "source": [
    "data.IOL_dpt.hist(bins=36)"
   ]
  },
  {
   "cell_type": "markdown",
   "metadata": {},
   "source": [
    "Check for weirdly high IOL dpt numbers. they are probably typos by the clinic. just two cases - remove those (see more above)\n",
    "\n",
    "the negative values seem to be okay. it is counterintuitive, as most lenses have around 21dpt, but some lenses hgave a different design and are placed in a slightly different eye location - leading to different refractive nessecitities"
   ]
  },
  {
   "cell_type": "code",
   "execution_count": null,
   "metadata": {},
   "outputs": [],
   "source": [
    "x = data.sort_values(\"IOL_dpt\", ascending=False)\n",
    "x"
   ]
  },
  {
   "cell_type": "markdown",
   "metadata": {},
   "source": [
    "#### SE"
   ]
  },
  {
   "cell_type": "code",
   "execution_count": 146,
   "metadata": {},
   "outputs": [
    {
     "data": {
      "text/plain": [
       "count    5588.000000\n",
       "mean       -0.323679\n",
       "std         0.622077\n",
       "min        -5.312500\n",
       "25%        -0.666667\n",
       "50%        -0.300000\n",
       "75%         0.062500\n",
       "max         4.166667\n",
       "Name: se, dtype: float64"
      ]
     },
     "execution_count": 146,
     "metadata": {},
     "output_type": "execute_result"
    }
   ],
   "source": [
    "data.se.describe()"
   ]
  },
  {
   "cell_type": "code",
   "execution_count": 147,
   "metadata": {},
   "outputs": [
    {
     "data": {
      "text/plain": [
       "<Axes: >"
      ]
     },
     "execution_count": 147,
     "metadata": {},
     "output_type": "execute_result"
    },
    {
     "data": {
      "image/png": "[encoded data removed]",
      "text/plain": [
       "<Figure size 640x480 with 1 Axes>"
      ]
     },
     "metadata": {},
     "output_type": "display_data"
    }
   ],
   "source": [
    "data.se.hist(bins=40)"
   ]
  },
  {
   "cell_type": "code",
   "execution_count": 148,
   "metadata": {},
   "outputs": [
    {
     "data": {
      "text/plain": [
       "<Axes: >"
      ]
     },
     "execution_count": 148,
     "metadata": {},
     "output_type": "execute_result"
    },
    {
     "data": {
      "image/png": "[encoded data removed]",
      "text/plain": [
       "<Figure size 640x480 with 1 Axes>"
      ]
     },
     "metadata": {},
     "output_type": "display_data"
    }
   ],
   "source": [
    "data.cyl.hist(bins=40)"
   ]
  },
  {
   "cell_type": "code",
   "execution_count": null,
   "metadata": {},
   "outputs": [],
   "source": [
    "x = data.sort_values(\"se\", ascending=True)\n",
    "x"
   ]
  },
  {
   "cell_type": "markdown",
   "metadata": {},
   "source": [
    "there are also abnormaly high numbers, which seem to by PDF-misreads, and need correction. Update: found a cleaning mistake. now its better"
   ]
  },
  {
   "cell_type": "markdown",
   "metadata": {},
   "source": [
    "#### Other variables"
   ]
  },
  {
   "cell_type": "code",
   "execution_count": 150,
   "metadata": {},
   "outputs": [
    {
     "data": {
      "text/plain": [
       "<Axes: >"
      ]
     },
     "execution_count": 150,
     "metadata": {},
     "output_type": "execute_result"
    },
    {
     "data": {
      "image/png": "[encoded data removed]",
      "text/plain": [
       "<Figure size 640x480 with 1 Axes>"
      ]
     },
     "metadata": {},
     "output_type": "display_data"
    }
   ],
   "source": [
    "data.age.hist()"
   ]
  },
  {
   "cell_type": "code",
   "execution_count": 151,
   "metadata": {},
   "outputs": [
    {
     "data": {
      "text/plain": [
       "<Axes: >"
      ]
     },
     "execution_count": 151,
     "metadata": {},
     "output_type": "execute_result"
    },
    {
     "data": {
      "image/png": "[encoded data removed]",
      "text/plain": [
       "<Figure size 640x480 with 1 Axes>"
      ]
     },
     "metadata": {},
     "output_type": "display_data"
    }
   ],
   "source": [
    "data.weeks_before_surgery.hist()"
   ]
  },
  {
   "cell_type": "code",
   "execution_count": 152,
   "metadata": {},
   "outputs": [
    {
     "data": {
      "text/plain": [
       "<Axes: >"
      ]
     },
     "execution_count": 152,
     "metadata": {},
     "output_type": "execute_result"
    },
    {
     "data": {
      "image/png": "[encoded data removed]",
      "text/plain": [
       "<Figure size 640x480 with 1 Axes>"
      ]
     },
     "metadata": {},
     "output_type": "display_data"
    }
   ],
   "source": [
    "data.weeks_since_surgery.hist()"
   ]
  },
  {
   "cell_type": "code",
   "execution_count": 153,
   "metadata": {},
   "outputs": [
    {
     "data": {
      "text/plain": [
       "RA_aim\n",
       "0.0    5589\n",
       "Name: count, dtype: int64"
      ]
     },
     "execution_count": 153,
     "metadata": {},
     "output_type": "execute_result"
    }
   ],
   "source": [
    "data.RA_aim.value_counts()"
   ]
  },
  {
   "cell_type": "code",
   "execution_count": null,
   "metadata": {},
   "outputs": [],
   "source": [
    "data"
   ]
  },
  {
   "cell_type": "code",
   "execution_count": 155,
   "metadata": {},
   "outputs": [
    {
     "data": {
      "text/plain": [
       "lens_series\n",
       "Domilens 677                   2292\n",
       "1stQ                           1119\n",
       "MBI SAL 302A                    827\n",
       "Zeiss AT Torbi                  400\n",
       "Teleon Oculentis 313            181\n",
       "Zeiss Asphina                   109\n",
       "Alcon SN6AT                      97\n",
       "Alcon Clareon                    93\n",
       "Domilens Nexload-System SZ1      89\n",
       "Bausch & Lomb Envista            84\n",
       "Domilens AS66-Y                  69\n",
       "Alcon SN 60 WF                   43\n",
       "BunnyLens AF Easy                27\n",
       "Zeiss CT Lucia 621 P/PY          25\n",
       "Alcon Vivity                     22\n",
       "Polytech Domilens Y50P           18\n",
       "Teleon Acunex AN6V                8\n",
       "Domilens 877 FABY                 6\n",
       "Alcon MN60AC                      6\n",
       "B&L Envista                       6\n",
       "Eyhance ICB00                     3\n",
       "Polytech Domilens Orizon          3\n",
       "Teleon Acunex AN6VT1              3\n",
       "Zeiss ATLISA TRI toric            3\n",
       "Orizon                            3\n",
       "Johnson-Johnson Model ICB00       2\n",
       "Teleon Acunex W-60R               2\n",
       "Artis                             2\n",
       "Alcon Pan Optix                   2\n",
       "Domilens BiFlex yellow            2\n",
       "Name: count, dtype: int64"
      ]
     },
     "execution_count": 155,
     "metadata": {},
     "output_type": "execute_result"
    }
   ],
   "source": [
    "data.lens_series.value_counts().head(30)"
   ]
  },
  {
   "cell_type": "code",
   "execution_count": 156,
   "metadata": {},
   "outputs": [
    {
     "data": {
      "text/plain": [
       "<seaborn.axisgrid.FacetGrid at 0x22b90459cd0>"
      ]
     },
     "execution_count": 156,
     "metadata": {},
     "output_type": "execute_result"
    },
    {
     "data": {
      "image/png": "[encoded data removed]",
      "text/plain": [
       "<Figure size 500x500 with 1 Axes>"
      ]
     },
     "metadata": {},
     "output_type": "display_data"
    }
   ],
   "source": [
    "g = sns.relplot(data, x=\"AL\", y=\"se\", alpha=0.3)\n",
    "g.map(plt.axhline, y=0.5, color='black', linewidth=0.5)  # Dashed blue line at y=0.5\n",
    "g.map(plt.axhline, y=-0.5, color='black', linewidth=0.5)  # Dashed red line at y=-0.5"
   ]
  },
  {
   "cell_type": "code",
   "execution_count": null,
   "metadata": {},
   "outputs": [],
   "source": [
    "# check high and low AL\n",
    "z = data.loc[(data[\"AL\"] < 15) | (data[\"AL\"] > 30)]\n",
    "z"
   ]
  },
  {
   "cell_type": "code",
   "execution_count": null,
   "metadata": {},
   "outputs": [],
   "source": [
    "# -> follow up: loW AL in patnr 1109111 on left side is a missread. delete this case\n",
    "z = iol_merge.loc[iol_merge.patnr == 1121438] \n",
    "z\n",
    "\n"
   ]
  },
  {
   "cell_type": "markdown",
   "metadata": {},
   "source": [
    "# 8. Prepare for ML\n",
    "\n",
    "- remove NA rows in outcome (IOL_dpt) and AL\n",
    "- drop unneeded columns\n",
    "- drop information about toric lenses - it does not matter for the minimal model \n",
    "- ~~drop SD and @ information, as there are too many NAs and it probably doesnt influence the result.~~ First try including those"
   ]
  },
  {
   "cell_type": "code",
   "execution_count": 159,
   "metadata": {},
   "outputs": [],
   "source": [
    "# remove NA rows n=16\n",
    "data = data.dropna(subset=[\"IOL_dpt\"])\n",
    "\n",
    "# remove NA rows for AL (n=2) - necessary for dummy construction\n",
    "data = data.dropna(subset=[\"AL\"])"
   ]
  },
  {
   "cell_type": "code",
   "execution_count": 160,
   "metadata": {},
   "outputs": [
    {
     "data": {
      "text/plain": [
       "True"
      ]
     },
     "execution_count": 160,
     "metadata": {},
     "output_type": "execute_result"
    }
   ],
   "source": [
    "# reduce information of surgery type to Phakoemulsifikation (Phako) vs femtolaserassistierte Kataraktchirurgie (FLACS)\n",
    "data[\"proc_short\"] = np.where(\n",
    "    data[\"procedure\"].str.contains(\"femto\", case=False),\n",
    "    \"FLACS\",\n",
    "    np.where(data[\"procedure\"].str.contains(\"phako\", case=False), \"Phako\", \"Other\"),\n",
    ")\n",
    " \n",
    "# validate str search\n",
    "data.procedure.str.contains(\"femto\", case=False).sum()+ data.procedure.str.contains(\"phako\", case=False).sum() == len(data.procedure)"
   ]
  },
  {
   "cell_type": "code",
   "execution_count": 161,
   "metadata": {},
   "outputs": [
    {
     "data": {
      "text/html": [
       "<div>\n",
       "<style scoped>\n",
       "    .dataframe tbody tr th:only-of-type {\n",
       "        vertical-align: middle;\n",
       "    }\n",
       "\n",
       "    .dataframe tbody tr th {\n",
       "        vertical-align: top;\n",
       "    }\n",
       "\n",
       "    .dataframe thead th {\n",
       "        text-align: right;\n",
       "    }\n",
       "</style>\n",
       "<table border=\"1\" class=\"dataframe\">\n",
       "  <thead>\n",
       "    <tr style=\"text-align: right;\">\n",
       "      <th></th>\n",
       "      <th>lens_series</th>\n",
       "      <th>sphere</th>\n",
       "      <th>cyl</th>\n",
       "      <th>ax</th>\n",
       "      <th>se</th>\n",
       "      <th>IOL_torisch_dpt</th>\n",
       "      <th>IOL_dpt</th>\n",
       "      <th>AL</th>\n",
       "      <th>VKT</th>\n",
       "      <th>LD</th>\n",
       "      <th>...</th>\n",
       "      <th>R2_at</th>\n",
       "      <th>DeltaD_at</th>\n",
       "      <th>WZW</th>\n",
       "      <th>refr</th>\n",
       "      <th>A0</th>\n",
       "      <th>A1</th>\n",
       "      <th>A2</th>\n",
       "      <th>sex</th>\n",
       "      <th>age</th>\n",
       "      <th>proc_short</th>\n",
       "    </tr>\n",
       "  </thead>\n",
       "  <tbody>\n",
       "    <tr>\n",
       "      <th>0</th>\n",
       "      <td>MBI SAL 302A</td>\n",
       "      <td>0.000</td>\n",
       "      <td>-0.750</td>\n",
       "      <td>NaN</td>\n",
       "      <td>-0.3750</td>\n",
       "      <td>NaN</td>\n",
       "      <td>17.5</td>\n",
       "      <td>24.96</td>\n",
       "      <td>3.010</td>\n",
       "      <td>4.700</td>\n",
       "      <td>...</td>\n",
       "      <td>81.0</td>\n",
       "      <td>171.0</td>\n",
       "      <td>12.00</td>\n",
       "      <td>0.00</td>\n",
       "      <td>-0.701</td>\n",
       "      <td>0.119</td>\n",
       "      <td>0.222</td>\n",
       "      <td>2</td>\n",
       "      <td>60</td>\n",
       "      <td>Phako</td>\n",
       "    </tr>\n",
       "    <tr>\n",
       "      <th>1</th>\n",
       "      <td>Zeiss AT Torbi</td>\n",
       "      <td>0.250</td>\n",
       "      <td>-0.750</td>\n",
       "      <td>NaN</td>\n",
       "      <td>-0.1250</td>\n",
       "      <td>1.0</td>\n",
       "      <td>21.0</td>\n",
       "      <td>23.06</td>\n",
       "      <td>2.970</td>\n",
       "      <td>4.640</td>\n",
       "      <td>...</td>\n",
       "      <td>87.0</td>\n",
       "      <td>177.0</td>\n",
       "      <td>12.10</td>\n",
       "      <td>0.30</td>\n",
       "      <td>1.130</td>\n",
       "      <td>0.400</td>\n",
       "      <td>0.100</td>\n",
       "      <td>2</td>\n",
       "      <td>74</td>\n",
       "      <td>Phako</td>\n",
       "    </tr>\n",
       "    <tr>\n",
       "      <th>2</th>\n",
       "      <td>Domilens 677</td>\n",
       "      <td>0.750</td>\n",
       "      <td>-1.000</td>\n",
       "      <td>NaN</td>\n",
       "      <td>0.2500</td>\n",
       "      <td>NaN</td>\n",
       "      <td>21.0</td>\n",
       "      <td>23.29</td>\n",
       "      <td>2.600</td>\n",
       "      <td>5.150</td>\n",
       "      <td>...</td>\n",
       "      <td>171.0</td>\n",
       "      <td>NaN</td>\n",
       "      <td>11.90</td>\n",
       "      <td>0.02</td>\n",
       "      <td>0.190</td>\n",
       "      <td>0.192</td>\n",
       "      <td>0.173</td>\n",
       "      <td>2</td>\n",
       "      <td>85</td>\n",
       "      <td>Phako</td>\n",
       "    </tr>\n",
       "    <tr>\n",
       "      <th>3</th>\n",
       "      <td>Domilens 677</td>\n",
       "      <td>1.250</td>\n",
       "      <td>-1.500</td>\n",
       "      <td>NaN</td>\n",
       "      <td>0.5000</td>\n",
       "      <td>NaN</td>\n",
       "      <td>22.5</td>\n",
       "      <td>23.70</td>\n",
       "      <td>3.115</td>\n",
       "      <td>4.665</td>\n",
       "      <td>...</td>\n",
       "      <td>95.5</td>\n",
       "      <td>175.0</td>\n",
       "      <td>12.65</td>\n",
       "      <td>-0.03</td>\n",
       "      <td>0.190</td>\n",
       "      <td>0.192</td>\n",
       "      <td>0.173</td>\n",
       "      <td>1</td>\n",
       "      <td>80</td>\n",
       "      <td>Phako</td>\n",
       "    </tr>\n",
       "    <tr>\n",
       "      <th>4</th>\n",
       "      <td>Domilens 677</td>\n",
       "      <td>0.625</td>\n",
       "      <td>-1.125</td>\n",
       "      <td>75.0</td>\n",
       "      <td>0.0625</td>\n",
       "      <td>NaN</td>\n",
       "      <td>21.0</td>\n",
       "      <td>22.79</td>\n",
       "      <td>2.910</td>\n",
       "      <td>5.180</td>\n",
       "      <td>...</td>\n",
       "      <td>170.0</td>\n",
       "      <td>80.0</td>\n",
       "      <td>12.10</td>\n",
       "      <td>NaN</td>\n",
       "      <td>NaN</td>\n",
       "      <td>NaN</td>\n",
       "      <td>NaN</td>\n",
       "      <td>1</td>\n",
       "      <td>77</td>\n",
       "      <td>Phako</td>\n",
       "    </tr>\n",
       "    <tr>\n",
       "      <th>...</th>\n",
       "      <td>...</td>\n",
       "      <td>...</td>\n",
       "      <td>...</td>\n",
       "      <td>...</td>\n",
       "      <td>...</td>\n",
       "      <td>...</td>\n",
       "      <td>...</td>\n",
       "      <td>...</td>\n",
       "      <td>...</td>\n",
       "      <td>...</td>\n",
       "      <td>...</td>\n",
       "      <td>...</td>\n",
       "      <td>...</td>\n",
       "      <td>...</td>\n",
       "      <td>...</td>\n",
       "      <td>...</td>\n",
       "      <td>...</td>\n",
       "      <td>...</td>\n",
       "      <td>...</td>\n",
       "      <td>...</td>\n",
       "      <td>...</td>\n",
       "    </tr>\n",
       "    <tr>\n",
       "      <th>5603</th>\n",
       "      <td>Domilens 677</td>\n",
       "      <td>0.500</td>\n",
       "      <td>-1.000</td>\n",
       "      <td>NaN</td>\n",
       "      <td>0.0000</td>\n",
       "      <td>NaN</td>\n",
       "      <td>19.5</td>\n",
       "      <td>24.24</td>\n",
       "      <td>2.980</td>\n",
       "      <td>5.210</td>\n",
       "      <td>...</td>\n",
       "      <td>175.0</td>\n",
       "      <td>NaN</td>\n",
       "      <td>12.30</td>\n",
       "      <td>-0.01</td>\n",
       "      <td>0.190</td>\n",
       "      <td>0.192</td>\n",
       "      <td>0.173</td>\n",
       "      <td>1</td>\n",
       "      <td>86</td>\n",
       "      <td>Phako</td>\n",
       "    </tr>\n",
       "    <tr>\n",
       "      <th>5604</th>\n",
       "      <td>Bausch &amp; Lomb Envista</td>\n",
       "      <td>0.250</td>\n",
       "      <td>-0.750</td>\n",
       "      <td>126.0</td>\n",
       "      <td>-0.1250</td>\n",
       "      <td>NaN</td>\n",
       "      <td>21.5</td>\n",
       "      <td>23.38</td>\n",
       "      <td>3.070</td>\n",
       "      <td>4.600</td>\n",
       "      <td>...</td>\n",
       "      <td>111.0</td>\n",
       "      <td>NaN</td>\n",
       "      <td>12.20</td>\n",
       "      <td>0.11</td>\n",
       "      <td>0.183</td>\n",
       "      <td>0.315</td>\n",
       "      <td>0.172</td>\n",
       "      <td>2</td>\n",
       "      <td>72</td>\n",
       "      <td>Phako</td>\n",
       "    </tr>\n",
       "    <tr>\n",
       "      <th>5605</th>\n",
       "      <td>Bausch &amp; Lomb Envista</td>\n",
       "      <td>0.500</td>\n",
       "      <td>-0.750</td>\n",
       "      <td>87.0</td>\n",
       "      <td>0.1250</td>\n",
       "      <td>NaN</td>\n",
       "      <td>22.0</td>\n",
       "      <td>22.79</td>\n",
       "      <td>2.420</td>\n",
       "      <td>5.020</td>\n",
       "      <td>...</td>\n",
       "      <td>70.5</td>\n",
       "      <td>160.5</td>\n",
       "      <td>11.65</td>\n",
       "      <td>-0.31</td>\n",
       "      <td>0.183</td>\n",
       "      <td>0.315</td>\n",
       "      <td>0.172</td>\n",
       "      <td>1</td>\n",
       "      <td>66</td>\n",
       "      <td>FLACS</td>\n",
       "    </tr>\n",
       "    <tr>\n",
       "      <th>5606</th>\n",
       "      <td>Domilens 677</td>\n",
       "      <td>-1.000</td>\n",
       "      <td>-0.500</td>\n",
       "      <td>NaN</td>\n",
       "      <td>-1.2500</td>\n",
       "      <td>NaN</td>\n",
       "      <td>22.5</td>\n",
       "      <td>22.93</td>\n",
       "      <td>2.990</td>\n",
       "      <td>4.910</td>\n",
       "      <td>...</td>\n",
       "      <td>151.0</td>\n",
       "      <td>NaN</td>\n",
       "      <td>11.80</td>\n",
       "      <td>-0.17</td>\n",
       "      <td>0.190</td>\n",
       "      <td>0.192</td>\n",
       "      <td>0.173</td>\n",
       "      <td>1</td>\n",
       "      <td>70</td>\n",
       "      <td>Phako</td>\n",
       "    </tr>\n",
       "    <tr>\n",
       "      <th>5607</th>\n",
       "      <td>Domilens 677</td>\n",
       "      <td>0.000</td>\n",
       "      <td>-1.000</td>\n",
       "      <td>150.0</td>\n",
       "      <td>-0.5000</td>\n",
       "      <td>NaN</td>\n",
       "      <td>22.5</td>\n",
       "      <td>22.28</td>\n",
       "      <td>3.330</td>\n",
       "      <td>4.350</td>\n",
       "      <td>...</td>\n",
       "      <td>78.0</td>\n",
       "      <td>168.0</td>\n",
       "      <td>12.00</td>\n",
       "      <td>-0.14</td>\n",
       "      <td>0.190</td>\n",
       "      <td>0.192</td>\n",
       "      <td>0.173</td>\n",
       "      <td>2</td>\n",
       "      <td>72</td>\n",
       "      <td>Phako</td>\n",
       "    </tr>\n",
       "  </tbody>\n",
       "</table>\n",
       "<p>5587 rows × 28 columns</p>\n",
       "</div>"
      ],
      "text/plain": [
       "                lens_series  sphere    cyl     ax      se  IOL_torisch_dpt  \\\n",
       "0              MBI SAL 302A   0.000 -0.750    NaN -0.3750              NaN   \n",
       "1            Zeiss AT Torbi   0.250 -0.750    NaN -0.1250              1.0   \n",
       "2              Domilens 677   0.750 -1.000    NaN  0.2500              NaN   \n",
       "3              Domilens 677   1.250 -1.500    NaN  0.5000              NaN   \n",
       "4              Domilens 677   0.625 -1.125   75.0  0.0625              NaN   \n",
       "...                     ...     ...    ...    ...     ...              ...   \n",
       "5603           Domilens 677   0.500 -1.000    NaN  0.0000              NaN   \n",
       "5604  Bausch & Lomb Envista   0.250 -0.750  126.0 -0.1250              NaN   \n",
       "5605  Bausch & Lomb Envista   0.500 -0.750   87.0  0.1250              NaN   \n",
       "5606           Domilens 677  -1.000 -0.500    NaN -1.2500              NaN   \n",
       "5607           Domilens 677   0.000 -1.000  150.0 -0.5000              NaN   \n",
       "\n",
       "      IOL_dpt     AL    VKT     LD  ...  R2_at  DeltaD_at    WZW  refr     A0  \\\n",
       "0        17.5  24.96  3.010  4.700  ...   81.0      171.0  12.00  0.00 -0.701   \n",
       "1        21.0  23.06  2.970  4.640  ...   87.0      177.0  12.10  0.30  1.130   \n",
       "2        21.0  23.29  2.600  5.150  ...  171.0        NaN  11.90  0.02  0.190   \n",
       "3        22.5  23.70  3.115  4.665  ...   95.5      175.0  12.65 -0.03  0.190   \n",
       "4        21.0  22.79  2.910  5.180  ...  170.0       80.0  12.10   NaN    NaN   \n",
       "...       ...    ...    ...    ...  ...    ...        ...    ...   ...    ...   \n",
       "5603     19.5  24.24  2.980  5.210  ...  175.0        NaN  12.30 -0.01  0.190   \n",
       "5604     21.5  23.38  3.070  4.600  ...  111.0        NaN  12.20  0.11  0.183   \n",
       "5605     22.0  22.79  2.420  5.020  ...   70.5      160.5  11.65 -0.31  0.183   \n",
       "5606     22.5  22.93  2.990  4.910  ...  151.0        NaN  11.80 -0.17  0.190   \n",
       "5607     22.5  22.28  3.330  4.350  ...   78.0      168.0  12.00 -0.14  0.190   \n",
       "\n",
       "         A1     A2  sex  age  proc_short  \n",
       "0     0.119  0.222    2   60       Phako  \n",
       "1     0.400  0.100    2   74       Phako  \n",
       "2     0.192  0.173    2   85       Phako  \n",
       "3     0.192  0.173    1   80       Phako  \n",
       "4       NaN    NaN    1   77       Phako  \n",
       "...     ...    ...  ...  ...         ...  \n",
       "5603  0.192  0.173    1   86       Phako  \n",
       "5604  0.315  0.172    2   72       Phako  \n",
       "5605  0.315  0.172    1   66       FLACS  \n",
       "5606  0.192  0.173    1   70       Phako  \n",
       "5607  0.192  0.173    2   72       Phako  \n",
       "\n",
       "[5587 rows x 28 columns]"
      ]
     },
     "execution_count": 161,
     "metadata": {},
     "output_type": "execute_result"
    }
   ],
   "source": [
    "# drop unnneded columns\n",
    "data_ML = data.drop(\n",
    "    [\n",
    "        \"patnr\",\n",
    "        \"side\",\n",
    "        \"surg_date\",\n",
    "        \"surg_note_1\",\n",
    "        \"surg_note_2\",\n",
    "        \"lens_cat\",\n",
    "        \"lens_cat_surg\",\n",
    "        \"lens\",\n",
    "        \"weeks_before_surgery\",\n",
    "        \"weeks_since_surgery\",\n",
    "        \"birthdate\",\n",
    "        \"RA_meas_count\",\n",
    "        \"RA_aim\",\n",
    "        \"procedure\"\n",
    "    ],\n",
    "    axis=True,\n",
    ")\n",
    "data_ML"
   ]
  },
  {
   "cell_type": "code",
   "execution_count": 162,
   "metadata": {},
   "outputs": [],
   "source": [
    "# save data_ML to csv for model building\n",
    "data_ML.to_csv('data/data_ML_mvm_v1.csv', index=False)"
   ]
  },
  {
   "cell_type": "markdown",
   "metadata": {},
   "source": [
    "# Validate Individual Cases"
   ]
  },
  {
   "cell_type": "code",
   "execution_count": null,
   "metadata": {},
   "outputs": [],
   "source": [
    "data.loc[data.se> 1.5,[\"patnr\", \"surg_date\", \"side\", \"lens\", \"RA_aim\", \"sphere\", \"se\", \"sex\"]]"
   ]
  },
  {
   "cell_type": "code",
   "execution_count": null,
   "metadata": {},
   "outputs": [],
   "source": [
    "id = 123456\n",
    "refr.loc[refr.patnr == id]"
   ]
  },
  {
   "cell_type": "code",
   "execution_count": null,
   "metadata": {},
   "outputs": [],
   "source": [
    "iol_merge.loc[iol_merge.patnr == id, \"filename\"].values[0]"
   ]
  }
 ],
 "metadata": {
  "kernelspec": {
   "display_name": "base",
   "language": "python",
   "name": "python3"
  },
  "language_info": {
   "codemirror_mode": {
    "name": "ipython",
    "version": 3
   },
   "file_extension": ".py",
   "mimetype": "text/x-python",
   "name": "python",
   "nbconvert_exporter": "python",
   "pygments_lexer": "ipython3",
   "version": "3.11.7"
  }
 },
 "nbformat": 4,
 "nbformat_minor": 2
}
